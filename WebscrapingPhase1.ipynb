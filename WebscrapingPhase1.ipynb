{
 "cells": [
  {
   "cell_type": "markdown",
   "metadata": {},
   "source": [
    "List of links possibly worth investigating:\n",
    "https://rapidapi.com/collection/tv-api\n",
    "https://tvlistings.ctvdigital.net/service/metadata\n",
    "https://tvlistings.gracenote.com/grid-affiliates.html?aid=orbebb\n",
    "https://www.the-numbers.com/tv-show/That-70s-Show#tab=summary\n",
    "https://www.businessofapps.com/data/netflix-statistics/#1\n",
    "https://www.statista.com/chart/10311/netflix-subscriptions-usa-international/\n",
    "https://www.lafabbricadellarealta.com/open-data-entertainment/"
   ]
  },
  {
   "cell_type": "code",
   "execution_count": 1,
   "metadata": {},
   "outputs": [],
   "source": [
    "import pandas as pd\n",
    "from bs4 import BeautifulSoup\n",
    "import requests"
   ]
  },
  {
   "cell_type": "code",
   "execution_count": 2,
   "metadata": {},
   "outputs": [],
   "source": [
    "url3 = 'https://www.emmys.com/awards/nominees-winners'\n",
    "html3 = requests.get(url3)\n",
    "soup3 = BeautifulSoup(html3.content, 'html.parser')"
   ]
  },
  {
   "cell_type": "code",
   "execution_count": 3,
   "metadata": {},
   "outputs": [],
   "source": [
    "award_titles_container = soup3.find('div', class_ = 'section-content item-list pt-3 row')"
   ]
  },
  {
   "cell_type": "code",
   "execution_count": 4,
   "metadata": {},
   "outputs": [],
   "source": [
    "titles = award_titles_container.findAll('h5', class_ = 'mb-1')"
   ]
  },
  {
   "cell_type": "code",
   "execution_count": 5,
   "metadata": {},
   "outputs": [],
   "source": [
    "nominated_shows = []\n",
    "for tag in titles[:7]:\n",
    "    nominated_shows.append(tag.text.strip())\n",
    "#nominated_shows"
   ]
  },
  {
   "cell_type": "code",
   "execution_count": 6,
   "metadata": {},
   "outputs": [],
   "source": [
    "actors = []\n",
    "for tag in titles[8:]:\n",
    "    actors.append(tag.text.strip())\n",
    "#actors"
   ]
  },
  {
   "cell_type": "code",
   "execution_count": 7,
   "metadata": {},
   "outputs": [],
   "source": [
    "show_names_for_actors = award_titles_container.findAll('div', class_ = 'p1 show-title')\n",
    "#show_names_for_actors"
   ]
  },
  {
   "cell_type": "code",
   "execution_count": 8,
   "metadata": {},
   "outputs": [],
   "source": [
    "shows_nominated_actors = []\n",
    "for tag in show_names_for_actors:\n",
    "    shows_nominated_actors.append(tag.text.strip())\n",
    "#shows_nominated_actors"
   ]
  },
  {
   "cell_type": "code",
   "execution_count": 9,
   "metadata": {},
   "outputs": [],
   "source": [
    "url4 = 'https://www.emmys.com/awards/nominees-winners?page=1'\n",
    "html4 = requests.get(url4)\n",
    "soup4 = BeautifulSoup(html4.content, 'html.parser')\n",
    "#soup"
   ]
  },
  {
   "cell_type": "code",
   "execution_count": 10,
   "metadata": {},
   "outputs": [],
   "source": [
    "award_titles_container2 = soup4.find('div', class_ = 'section-content item-list pt-3 row')\n",
    "#award_titles_container2"
   ]
  },
  {
   "cell_type": "code",
   "execution_count": 11,
   "metadata": {},
   "outputs": [],
   "source": [
    "titles2 = award_titles_container2.findAll('h5', class_ = 'mb-1')\n",
    "#titles2"
   ]
  },
  {
   "cell_type": "code",
   "execution_count": 12,
   "metadata": {},
   "outputs": [],
   "source": [
    "for tag in titles2[5:28]:\n",
    "    nominated_shows.append(tag.text.strip())\n",
    "#nominated_shows"
   ]
  },
  {
   "cell_type": "code",
   "execution_count": 13,
   "metadata": {},
   "outputs": [],
   "source": [
    "for tag in titles2[:6]:\n",
    "    actors.append(tag.text.strip())"
   ]
  },
  {
   "cell_type": "code",
   "execution_count": 14,
   "metadata": {},
   "outputs": [],
   "source": [
    "for tag in titles2[28:]:\n",
    "    actors.append(tag.text.strip())"
   ]
  },
  {
   "cell_type": "code",
   "execution_count": 15,
   "metadata": {
    "scrolled": false
   },
   "outputs": [],
   "source": [
    "#actors"
   ]
  },
  {
   "cell_type": "code",
   "execution_count": 16,
   "metadata": {},
   "outputs": [],
   "source": [
    "show_names_for_actors2 = award_titles_container2.findAll('div', class_ = 'p1 show-title')"
   ]
  },
  {
   "cell_type": "code",
   "execution_count": 17,
   "metadata": {},
   "outputs": [],
   "source": [
    "for tag in show_names_for_actors2:\n",
    "    shows_nominated_actors.append(tag.text.strip())"
   ]
  },
  {
   "cell_type": "code",
   "execution_count": 18,
   "metadata": {},
   "outputs": [],
   "source": [
    "url5 = 'https://www.emmys.com/awards/nominees-winners?page=2'\n",
    "html5 = requests.get(url5)\n",
    "soup5 = BeautifulSoup(html5.content, 'html.parser')"
   ]
  },
  {
   "cell_type": "code",
   "execution_count": 19,
   "metadata": {},
   "outputs": [],
   "source": [
    "award_titles_container3 = soup5.find('div', class_ = 'section-content item-list pt-3 row')"
   ]
  },
  {
   "cell_type": "code",
   "execution_count": 20,
   "metadata": {},
   "outputs": [],
   "source": [
    "titles3 = award_titles_container3.findAll('h5', class_ = 'mb-1')"
   ]
  },
  {
   "cell_type": "code",
   "execution_count": 21,
   "metadata": {},
   "outputs": [],
   "source": [
    "for tag in titles3[:-6]:\n",
    "    actors.append(tag.text.strip())"
   ]
  },
  {
   "cell_type": "code",
   "execution_count": 22,
   "metadata": {},
   "outputs": [],
   "source": [
    "shows_nominated_actors3 = soup5.findAll('div', class_ = 'p1 show-title')"
   ]
  },
  {
   "cell_type": "code",
   "execution_count": 23,
   "metadata": {
    "scrolled": true
   },
   "outputs": [],
   "source": [
    "for tag in shows_nominated_actors3[:-1]:\n",
    "    shows_nominated_actors.append(tag.text.strip())\n",
    "#shows_nominated_actors"
   ]
  },
  {
   "cell_type": "code",
   "execution_count": 24,
   "metadata": {},
   "outputs": [
    {
     "name": "stdout",
     "output_type": "stream",
     "text": [
      "80\n",
      "80\n"
     ]
    }
   ],
   "source": [
    "#make sure lists are same length before creating a dictionary \n",
    "print(len(actors))\n",
    "print(len(shows_nominated_actors))"
   ]
  },
  {
   "cell_type": "code",
   "execution_count": 25,
   "metadata": {},
   "outputs": [],
   "source": [
    "#dictionary pairing nominated actors and the shows they were nominated for \n",
    "nominated_actors = dict(zip(actors, shows_nominated_actors))\n",
    "#nominated_actors"
   ]
  },
  {
   "cell_type": "code",
   "execution_count": 26,
   "metadata": {},
   "outputs": [],
   "source": [
    "nominated_shows_dict = dict((x,nominated_shows.count(x)) for x in nominated_shows)"
   ]
  },
  {
   "cell_type": "code",
   "execution_count": 27,
   "metadata": {},
   "outputs": [],
   "source": [
    "#nominated_shows_dict"
   ]
  },
  {
   "cell_type": "code",
   "execution_count": 28,
   "metadata": {},
   "outputs": [
    {
     "data": {
      "text/plain": [
       "21"
      ]
     },
     "execution_count": 28,
     "metadata": {},
     "output_type": "execute_result"
    }
   ],
   "source": [
    "df = pd.DataFrame.from_dict(nominated_shows_dict, 'index')\n",
    "df.columns = ['Nominations']\n",
    "len(df)                                                          "
   ]
  },
  {
   "cell_type": "code",
   "execution_count": 29,
   "metadata": {},
   "outputs": [],
   "source": [
    "actor_show_noms = dict((x,shows_nominated_actors.count(x)) for x in shows_nominated_actors)\n",
    "#actor_show_noms"
   ]
  },
  {
   "cell_type": "code",
   "execution_count": 30,
   "metadata": {},
   "outputs": [
    {
     "data": {
      "text/html": [
       "<div>\n",
       "<style scoped>\n",
       "    .dataframe tbody tr th:only-of-type {\n",
       "        vertical-align: middle;\n",
       "    }\n",
       "\n",
       "    .dataframe tbody tr th {\n",
       "        vertical-align: top;\n",
       "    }\n",
       "\n",
       "    .dataframe thead th {\n",
       "        text-align: right;\n",
       "    }\n",
       "</style>\n",
       "<table border=\"1\" class=\"dataframe\">\n",
       "  <thead>\n",
       "    <tr style=\"text-align: right;\">\n",
       "      <th></th>\n",
       "      <th>Actor Nominations</th>\n",
       "    </tr>\n",
       "  </thead>\n",
       "  <tbody>\n",
       "    <tr>\n",
       "      <th>Black Monday</th>\n",
       "      <td>1</td>\n",
       "    </tr>\n",
       "    <tr>\n",
       "      <th>black-ish</th>\n",
       "      <td>2</td>\n",
       "    </tr>\n",
       "    <tr>\n",
       "      <th>Ramy</th>\n",
       "      <td>2</td>\n",
       "    </tr>\n",
       "    <tr>\n",
       "      <th>Schitt's Creek</th>\n",
       "      <td>4</td>\n",
       "    </tr>\n",
       "    <tr>\n",
       "      <th>The Good Place</th>\n",
       "      <td>4</td>\n",
       "    </tr>\n",
       "  </tbody>\n",
       "</table>\n",
       "</div>"
      ],
      "text/plain": [
       "                Actor Nominations\n",
       "Black Monday                    1\n",
       "black-ish                       2\n",
       "Ramy                            2\n",
       "Schitt's Creek                  4\n",
       "The Good Place                  4"
      ]
     },
     "execution_count": 30,
     "metadata": {},
     "output_type": "execute_result"
    }
   ],
   "source": [
    "df2 = pd.DataFrame.from_dict(actor_show_noms,'index')\n",
    "df2.columns = ['Actor Nominations']\n",
    "df2.head()"
   ]
  },
  {
   "cell_type": "code",
   "execution_count": 31,
   "metadata": {},
   "outputs": [],
   "source": [
    "joined_df = df.join(df2,how = 'outer')\n",
    "joined_df.fillna(0, inplace=True)\n",
    "#joined_df"
   ]
  },
  {
   "cell_type": "code",
   "execution_count": 32,
   "metadata": {},
   "outputs": [
    {
     "name": "stdout",
     "output_type": "stream",
     "text": [
      "<class 'pandas.core.frame.DataFrame'>\n",
      "Index: 39 entries, A Black Lady Sketch Show to black-ish\n",
      "Data columns (total 2 columns):\n",
      "Nominations          39 non-null float64\n",
      "Actor Nominations    39 non-null float64\n",
      "dtypes: float64(2)\n",
      "memory usage: 936.0+ bytes\n"
     ]
    }
   ],
   "source": [
    "joined_df.info()"
   ]
  },
  {
   "cell_type": "code",
   "execution_count": 33,
   "metadata": {},
   "outputs": [],
   "source": [
    "pd.options.display.float_format = '{:,.0f}'.format"
   ]
  },
  {
   "cell_type": "code",
   "execution_count": 34,
   "metadata": {},
   "outputs": [],
   "source": [
    "#joined_df"
   ]
  },
  {
   "cell_type": "markdown",
   "metadata": {},
   "source": [
    "Next steps: \n",
    "1. pull in network from Emmy's page\n",
    "2. find genre \n",
    "3. look into other awards shows/ international awards"
   ]
  },
  {
   "cell_type": "code",
   "execution_count": 35,
   "metadata": {},
   "outputs": [],
   "source": [
    "joined_df['Award Year'] = '2020'"
   ]
  },
  {
   "cell_type": "code",
   "execution_count": 36,
   "metadata": {},
   "outputs": [
    {
     "data": {
      "text/html": [
       "<div>\n",
       "<style scoped>\n",
       "    .dataframe tbody tr th:only-of-type {\n",
       "        vertical-align: middle;\n",
       "    }\n",
       "\n",
       "    .dataframe tbody tr th {\n",
       "        vertical-align: top;\n",
       "    }\n",
       "\n",
       "    .dataframe thead th {\n",
       "        text-align: right;\n",
       "    }\n",
       "</style>\n",
       "<table border=\"1\" class=\"dataframe\">\n",
       "  <thead>\n",
       "    <tr style=\"text-align: right;\">\n",
       "      <th></th>\n",
       "      <th>Nominations</th>\n",
       "      <th>Actor Nominations</th>\n",
       "      <th>Award Year</th>\n",
       "    </tr>\n",
       "  </thead>\n",
       "  <tbody>\n",
       "    <tr>\n",
       "      <th>A Black Lady Sketch Show</th>\n",
       "      <td>0</td>\n",
       "      <td>1</td>\n",
       "      <td>2020</td>\n",
       "    </tr>\n",
       "    <tr>\n",
       "      <th>Bette Midler</th>\n",
       "      <td>1</td>\n",
       "      <td>0</td>\n",
       "      <td>2020</td>\n",
       "    </tr>\n",
       "    <tr>\n",
       "      <th>Better Call Saul</th>\n",
       "      <td>1</td>\n",
       "      <td>1</td>\n",
       "      <td>2020</td>\n",
       "    </tr>\n",
       "    <tr>\n",
       "      <th>Big Little Lies</th>\n",
       "      <td>0</td>\n",
       "      <td>2</td>\n",
       "      <td>2020</td>\n",
       "    </tr>\n",
       "    <tr>\n",
       "      <th>Black Mirror</th>\n",
       "      <td>0</td>\n",
       "      <td>1</td>\n",
       "      <td>2020</td>\n",
       "    </tr>\n",
       "    <tr>\n",
       "      <th>Black Monday</th>\n",
       "      <td>0</td>\n",
       "      <td>1</td>\n",
       "      <td>2020</td>\n",
       "    </tr>\n",
       "    <tr>\n",
       "      <th>Brooklyn Nine-Nine</th>\n",
       "      <td>0</td>\n",
       "      <td>1</td>\n",
       "      <td>2020</td>\n",
       "    </tr>\n",
       "    <tr>\n",
       "      <th>Curb Your Enthusiasm</th>\n",
       "      <td>1</td>\n",
       "      <td>0</td>\n",
       "      <td>2020</td>\n",
       "    </tr>\n",
       "    <tr>\n",
       "      <th>Dead To Me</th>\n",
       "      <td>1</td>\n",
       "      <td>2</td>\n",
       "      <td>2020</td>\n",
       "    </tr>\n",
       "    <tr>\n",
       "      <th>Euphoria</th>\n",
       "      <td>0</td>\n",
       "      <td>1</td>\n",
       "      <td>2020</td>\n",
       "    </tr>\n",
       "    <tr>\n",
       "      <th>GLOW</th>\n",
       "      <td>0</td>\n",
       "      <td>1</td>\n",
       "      <td>2020</td>\n",
       "    </tr>\n",
       "    <tr>\n",
       "      <th>How To Get Away With Murder</th>\n",
       "      <td>0</td>\n",
       "      <td>1</td>\n",
       "      <td>2020</td>\n",
       "    </tr>\n",
       "    <tr>\n",
       "      <th>Insecure</th>\n",
       "      <td>1</td>\n",
       "      <td>2</td>\n",
       "      <td>2020</td>\n",
       "    </tr>\n",
       "    <tr>\n",
       "      <th>Killing Eve</th>\n",
       "      <td>1</td>\n",
       "      <td>3</td>\n",
       "      <td>2020</td>\n",
       "    </tr>\n",
       "    <tr>\n",
       "      <th>Modern Family</th>\n",
       "      <td>1</td>\n",
       "      <td>1</td>\n",
       "      <td>2020</td>\n",
       "    </tr>\n",
       "    <tr>\n",
       "      <th>Modern Love</th>\n",
       "      <td>0</td>\n",
       "      <td>1</td>\n",
       "      <td>2020</td>\n",
       "    </tr>\n",
       "    <tr>\n",
       "      <th>Orange Is The New Black</th>\n",
       "      <td>0</td>\n",
       "      <td>1</td>\n",
       "      <td>2020</td>\n",
       "    </tr>\n",
       "    <tr>\n",
       "      <th>Ozark</th>\n",
       "      <td>1</td>\n",
       "      <td>3</td>\n",
       "      <td>2020</td>\n",
       "    </tr>\n",
       "    <tr>\n",
       "      <th>Pose</th>\n",
       "      <td>0</td>\n",
       "      <td>1</td>\n",
       "      <td>2020</td>\n",
       "    </tr>\n",
       "    <tr>\n",
       "      <th>Ramy</th>\n",
       "      <td>1</td>\n",
       "      <td>2</td>\n",
       "      <td>2020</td>\n",
       "    </tr>\n",
       "    <tr>\n",
       "      <th>Saturday Night Live</th>\n",
       "      <td>0</td>\n",
       "      <td>8</td>\n",
       "      <td>2020</td>\n",
       "    </tr>\n",
       "    <tr>\n",
       "      <th>Schitt's Creek</th>\n",
       "      <td>4</td>\n",
       "      <td>4</td>\n",
       "      <td>2020</td>\n",
       "    </tr>\n",
       "    <tr>\n",
       "      <th>Stranger Things</th>\n",
       "      <td>1</td>\n",
       "      <td>0</td>\n",
       "      <td>2020</td>\n",
       "    </tr>\n",
       "    <tr>\n",
       "      <th>Succession</th>\n",
       "      <td>1</td>\n",
       "      <td>9</td>\n",
       "      <td>2020</td>\n",
       "    </tr>\n",
       "    <tr>\n",
       "      <th>The Crown</th>\n",
       "      <td>1</td>\n",
       "      <td>2</td>\n",
       "      <td>2020</td>\n",
       "    </tr>\n",
       "    <tr>\n",
       "      <th>The Good Place</th>\n",
       "      <td>2</td>\n",
       "      <td>4</td>\n",
       "      <td>2020</td>\n",
       "    </tr>\n",
       "    <tr>\n",
       "      <th>The Great</th>\n",
       "      <td>2</td>\n",
       "      <td>0</td>\n",
       "      <td>2020</td>\n",
       "    </tr>\n",
       "    <tr>\n",
       "      <th>The Handmaid's Tale</th>\n",
       "      <td>1</td>\n",
       "      <td>3</td>\n",
       "      <td>2020</td>\n",
       "    </tr>\n",
       "    <tr>\n",
       "      <th>The Kominsky Method</th>\n",
       "      <td>1</td>\n",
       "      <td>2</td>\n",
       "      <td>2020</td>\n",
       "    </tr>\n",
       "    <tr>\n",
       "      <th>The Mandalorian</th>\n",
       "      <td>1</td>\n",
       "      <td>1</td>\n",
       "      <td>2020</td>\n",
       "    </tr>\n",
       "    <tr>\n",
       "      <th>The Marvelous Mrs. Maisel</th>\n",
       "      <td>3</td>\n",
       "      <td>7</td>\n",
       "      <td>2020</td>\n",
       "    </tr>\n",
       "    <tr>\n",
       "      <th>The Morning Show</th>\n",
       "      <td>0</td>\n",
       "      <td>5</td>\n",
       "      <td>2020</td>\n",
       "    </tr>\n",
       "    <tr>\n",
       "      <th>The Outsider</th>\n",
       "      <td>0</td>\n",
       "      <td>1</td>\n",
       "      <td>2020</td>\n",
       "    </tr>\n",
       "    <tr>\n",
       "      <th>The Politician</th>\n",
       "      <td>0</td>\n",
       "      <td>1</td>\n",
       "      <td>2020</td>\n",
       "    </tr>\n",
       "    <tr>\n",
       "      <th>This Is Us</th>\n",
       "      <td>0</td>\n",
       "      <td>3</td>\n",
       "      <td>2020</td>\n",
       "    </tr>\n",
       "    <tr>\n",
       "      <th>Westworld</th>\n",
       "      <td>0</td>\n",
       "      <td>2</td>\n",
       "      <td>2020</td>\n",
       "    </tr>\n",
       "    <tr>\n",
       "      <th>What We Do In The Shadows</th>\n",
       "      <td>3</td>\n",
       "      <td>0</td>\n",
       "      <td>2020</td>\n",
       "    </tr>\n",
       "    <tr>\n",
       "      <th>Will &amp; Grace</th>\n",
       "      <td>1</td>\n",
       "      <td>0</td>\n",
       "      <td>2020</td>\n",
       "    </tr>\n",
       "    <tr>\n",
       "      <th>black-ish</th>\n",
       "      <td>0</td>\n",
       "      <td>2</td>\n",
       "      <td>2020</td>\n",
       "    </tr>\n",
       "  </tbody>\n",
       "</table>\n",
       "</div>"
      ],
      "text/plain": [
       "                             Nominations  Actor Nominations Award Year\n",
       "A Black Lady Sketch Show               0                  1       2020\n",
       "Bette Midler                           1                  0       2020\n",
       "Better Call Saul                       1                  1       2020\n",
       "Big Little Lies                        0                  2       2020\n",
       "Black Mirror                           0                  1       2020\n",
       "Black Monday                           0                  1       2020\n",
       "Brooklyn Nine-Nine                     0                  1       2020\n",
       "Curb Your Enthusiasm                   1                  0       2020\n",
       "Dead To Me                             1                  2       2020\n",
       "Euphoria                               0                  1       2020\n",
       "GLOW                                   0                  1       2020\n",
       "How To Get Away With Murder            0                  1       2020\n",
       "Insecure                               1                  2       2020\n",
       "Killing Eve                            1                  3       2020\n",
       "Modern Family                          1                  1       2020\n",
       "Modern Love                            0                  1       2020\n",
       "Orange Is The New Black                0                  1       2020\n",
       "Ozark                                  1                  3       2020\n",
       "Pose                                   0                  1       2020\n",
       "Ramy                                   1                  2       2020\n",
       "Saturday Night Live                    0                  8       2020\n",
       "Schitt's Creek                         4                  4       2020\n",
       "Stranger Things                        1                  0       2020\n",
       "Succession                             1                  9       2020\n",
       "The Crown                              1                  2       2020\n",
       "The Good Place                         2                  4       2020\n",
       "The Great                              2                  0       2020\n",
       "The Handmaid's Tale                    1                  3       2020\n",
       "The Kominsky Method                    1                  2       2020\n",
       "The Mandalorian                        1                  1       2020\n",
       "The Marvelous Mrs. Maisel              3                  7       2020\n",
       "The Morning Show                       0                  5       2020\n",
       "The Outsider                           0                  1       2020\n",
       "The Politician                         0                  1       2020\n",
       "This Is Us                             0                  3       2020\n",
       "Westworld                              0                  2       2020\n",
       "What We Do In The Shadows              3                  0       2020\n",
       "Will & Grace                           1                  0       2020\n",
       "black-ish                              0                  2       2020"
      ]
     },
     "execution_count": 36,
     "metadata": {},
     "output_type": "execute_result"
    }
   ],
   "source": [
    "joined_df"
   ]
  },
  {
   "cell_type": "code",
   "execution_count": 37,
   "metadata": {},
   "outputs": [],
   "source": [
    "url2019 = 'https://www.emmys.com/awards/nominees-winners/2019'\n",
    "html2019 = requests.get(url2019)\n",
    "soup2019 = BeautifulSoup(html2019.content, 'html.parser')"
   ]
  },
  {
   "cell_type": "code",
   "execution_count": 38,
   "metadata": {},
   "outputs": [],
   "source": [
    "award_titles_container2019 = soup2019.find('div', class_ = 'section-content item-list pt-3 row')"
   ]
  },
  {
   "cell_type": "code",
   "execution_count": 39,
   "metadata": {},
   "outputs": [],
   "source": [
    "titles2019 = award_titles_container2019.findAll('h5', class_ = 'mb-1')"
   ]
  },
  {
   "cell_type": "code",
   "execution_count": 40,
   "metadata": {},
   "outputs": [],
   "source": [
    "shows2019 = []\n",
    "for tag in titles2019[:7]:\n",
    "    shows2019.append(tag.text.strip())\n",
    "\n",
    "actors2019 = []\n",
    "for tag in titles2019[7:]:\n",
    "    actors2019.append(tag.text.strip())\n",
    "\n",
    "show_names_for_actors2019 = award_titles_container2019.findAll('div', class_ = 'p1 show-title')\n",
    "\n",
    "shows_nominated_actors2019 = []\n",
    "for tag in show_names_for_actors2019:\n",
    "    shows_nominated_actors2019.append(tag.text.strip())"
   ]
  },
  {
   "cell_type": "code",
   "execution_count": 41,
   "metadata": {
    "scrolled": true
   },
   "outputs": [
    {
     "name": "stdout",
     "output_type": "stream",
     "text": [
      "33\n",
      "33\n"
     ]
    }
   ],
   "source": [
    "print(len(shows_nominated_actors2019))\n",
    "print(len(actors2019))"
   ]
  },
  {
   "cell_type": "code",
   "execution_count": 42,
   "metadata": {},
   "outputs": [],
   "source": [
    "url2019_1 = 'https://www.emmys.com/awards/nominees-winners/2019?page=1'\n",
    "html2019_1 = requests.get(url2019_1)\n",
    "soup2019_1 = BeautifulSoup(html2019_1.content, 'html.parser')"
   ]
  },
  {
   "cell_type": "code",
   "execution_count": 43,
   "metadata": {},
   "outputs": [],
   "source": [
    "award_titles_container2019_1 = soup2019_1.find('div', class_ = 'section-content item-list pt-3 row')\n",
    "\n",
    "titles2019_1 = award_titles_container2019_1.findAll('h5', class_ = 'mb-1')\n",
    "\n",
    "for tag in titles2019_1[6:27]:\n",
    "    shows2019.append(tag.text.strip())\n",
    "    \n",
    "for tag in titles2019_1[-13:]:\n",
    "    actors2019.append(tag.text.strip())\n",
    "    \n",
    "for tag in titles2019_1[:6]:\n",
    "    actors2019.append(tag.text.strip())\n",
    "\n",
    "show_names_for_actors2019_1 = award_titles_container2019_1.findAll('div', class_ = 'p1 show-title')\n",
    "\n",
    "for tag in show_names_for_actors2019_1:\n",
    "    shows_nominated_actors2019.append(tag.text.strip())"
   ]
  },
  {
   "cell_type": "code",
   "execution_count": 44,
   "metadata": {},
   "outputs": [],
   "source": [
    "url2019_2 = 'https://www.emmys.com/awards/nominees-winners/2019?page=2'\n",
    "html2019_2 = requests.get(url2019_2)\n",
    "soup2019_2 = BeautifulSoup(html2019_2.content, 'html.parser')"
   ]
  },
  {
   "cell_type": "code",
   "execution_count": 45,
   "metadata": {},
   "outputs": [],
   "source": [
    "award_titles_container2019_2 = soup2019_2.find('div', class_ = 'section-content item-list pt-3 row')\n",
    "\n",
    "titles2019_2 = award_titles_container2019_2.findAll('h5', class_ = 'mb-1')\n",
    "\n",
    "for tag in titles2019_2[:13]:\n",
    "    actors2019.append(tag.text.strip())\n",
    "\n",
    "show_names_for_actors2019_2 = award_titles_container2019_2.findAll('div', class_ = 'p1 show-title')\n",
    "\n",
    "for tag in show_names_for_actors2019_2[:13]:\n",
    "    shows_nominated_actors2019.append(tag.text.strip())"
   ]
  },
  {
   "cell_type": "code",
   "execution_count": 46,
   "metadata": {},
   "outputs": [],
   "source": [
    "actor_show_noms2019 = dict((x, shows_nominated_actors2019.count(x)) for x in shows_nominated_actors2019)\n",
    "#actor_show_noms2019"
   ]
  },
  {
   "cell_type": "code",
   "execution_count": 47,
   "metadata": {},
   "outputs": [],
   "source": [
    "nominated_shows2019 = dict((x,shows2019.count(x)) for x in shows2019)"
   ]
  },
  {
   "cell_type": "code",
   "execution_count": 48,
   "metadata": {},
   "outputs": [],
   "source": [
    "df2019 = pd.DataFrame.from_dict(nominated_shows2019, 'index')\n",
    "df2019.columns = ['Nominations']"
   ]
  },
  {
   "cell_type": "code",
   "execution_count": 49,
   "metadata": {},
   "outputs": [],
   "source": [
    "df2019_actors = pd.DataFrame.from_dict(actor_show_noms2019,'index')\n",
    "df2019_actors.columns = ['Actor Nominations']\n"
   ]
  },
  {
   "cell_type": "code",
   "execution_count": 50,
   "metadata": {},
   "outputs": [
    {
     "data": {
      "text/html": [
       "<div>\n",
       "<style scoped>\n",
       "    .dataframe tbody tr th:only-of-type {\n",
       "        vertical-align: middle;\n",
       "    }\n",
       "\n",
       "    .dataframe tbody tr th {\n",
       "        vertical-align: top;\n",
       "    }\n",
       "\n",
       "    .dataframe thead th {\n",
       "        text-align: right;\n",
       "    }\n",
       "</style>\n",
       "<table border=\"1\" class=\"dataframe\">\n",
       "  <thead>\n",
       "    <tr style=\"text-align: right;\">\n",
       "      <th></th>\n",
       "      <th>Nominations</th>\n",
       "      <th>Actor Nominations</th>\n",
       "    </tr>\n",
       "  </thead>\n",
       "  <tbody>\n",
       "    <tr>\n",
       "      <th>Barry</th>\n",
       "      <td>4</td>\n",
       "      <td>5</td>\n",
       "    </tr>\n",
       "    <tr>\n",
       "      <th>Better Call Saul</th>\n",
       "      <td>1</td>\n",
       "      <td>3</td>\n",
       "    </tr>\n",
       "    <tr>\n",
       "      <th>Black Monday</th>\n",
       "      <td>nan</td>\n",
       "      <td>1</td>\n",
       "    </tr>\n",
       "  </tbody>\n",
       "</table>\n",
       "</div>"
      ],
      "text/plain": [
       "                  Nominations  Actor Nominations\n",
       "Barry                       4                  5\n",
       "Better Call Saul            1                  3\n",
       "Black Monday              nan                  1"
      ]
     },
     "execution_count": 50,
     "metadata": {},
     "output_type": "execute_result"
    }
   ],
   "source": [
    "joined_df_2019 = df2019.join(df2019_actors, how='outer')\n",
    "joined_df_2019.head(3)"
   ]
  },
  {
   "cell_type": "code",
   "execution_count": 51,
   "metadata": {},
   "outputs": [],
   "source": [
    "joined_df_2019['Award Year'] = '2019'"
   ]
  },
  {
   "cell_type": "code",
   "execution_count": 52,
   "metadata": {},
   "outputs": [],
   "source": [
    "url2018 = 'https://www.emmys.com/awards/nominees-winners/2018'\n",
    "html2018 = requests.get(url2018)\n",
    "soup2018 = BeautifulSoup(html2018.content, 'html.parser')"
   ]
  },
  {
   "cell_type": "code",
   "execution_count": 53,
   "metadata": {},
   "outputs": [],
   "source": [
    "award_titles_container2018 = soup2018.find('div', class_ = 'section-content item-list pt-3 row')\n",
    "\n",
    "titles2018 = award_titles_container2018.findAll('h5', class_ = 'mb-1')\n",
    "\n",
    "show_names_for_actors2018 = award_titles_container2018.findAll('div', class_ = 'p1 show-title')"
   ]
  },
  {
   "cell_type": "code",
   "execution_count": 54,
   "metadata": {},
   "outputs": [],
   "source": [
    "actors2018 = []\n",
    "shows2018 =  []\n",
    "shows_nominated_actors2018 = []\n",
    "\n",
    "for tag in titles2018[8:]:\n",
    "    actors2018.append(tag.text.strip())\n",
    "\n",
    "for tag in titles2018[:8]:\n",
    "    shows2018.append(tag.text.strip())\n",
    "\n",
    "show_names_for_actors2018 = award_titles_container2018.findAll('div', class_ = 'p1 show-title')\n",
    "\n",
    "for tag in show_names_for_actors2018:\n",
    "    shows_nominated_actors2018.append(tag.text.strip())"
   ]
  },
  {
   "cell_type": "code",
   "execution_count": 55,
   "metadata": {},
   "outputs": [],
   "source": [
    "url2018_1 = 'https://www.emmys.com/awards/nominees-winners/2018?page=1'\n",
    "html2018_1 = requests.get(url2018_1)\n",
    "soup2018_1 = BeautifulSoup(html2018_1.content, 'html.parser')"
   ]
  },
  {
   "cell_type": "code",
   "execution_count": 56,
   "metadata": {},
   "outputs": [],
   "source": [
    "award_titles_container2018_1 = soup2018_1.find('div', class_ = 'section-content item-list pt-3 row')\n",
    "\n",
    "titles2018_1 = award_titles_container2018_1.findAll('h5', class_ = 'mb-1')\n",
    "\n",
    "show_names_for_actors2018_1 = award_titles_container2018_1.findAll('div', class_ = 'p1 show-title')"
   ]
  },
  {
   "cell_type": "code",
   "execution_count": 57,
   "metadata": {},
   "outputs": [],
   "source": [
    "for tag in titles2018_1[:5]:\n",
    "    actors2018.append(tag.text.strip())\n",
    "    \n",
    "for tag in titles2018_1[-12:]:\n",
    "    actors2018.append(tag.text.strip())\n",
    "\n",
    "for tag in titles2018_1[6:-12]:\n",
    "    shows2018.append(tag.text.strip())\n",
    "\n",
    "show_names_for_actors2018_1 = award_titles_container2018_1.findAll('div', class_ = 'p1 show-title')\n",
    "\n",
    "for tag in show_names_for_actors2018_1:\n",
    "    shows_nominated_actors2018.append(tag.text.strip())"
   ]
  },
  {
   "cell_type": "code",
   "execution_count": 58,
   "metadata": {},
   "outputs": [],
   "source": [
    "url2018_2 = 'https://www.emmys.com/awards/nominees-winners/2018?page=2'\n",
    "html2018_2 = requests.get(url2018_2)\n",
    "soup2018_2 = BeautifulSoup(html2018_2.content, 'html.parser')"
   ]
  },
  {
   "cell_type": "code",
   "execution_count": 59,
   "metadata": {},
   "outputs": [],
   "source": [
    "award_titles_container2018_2 = soup2018_2.find('div', class_ = 'section-content item-list pt-3 row')\n",
    "\n",
    "show_names_for_actors2018_2 = award_titles_container2018_2.findAll('div', class_ = 'p1 show-title')"
   ]
  },
  {
   "cell_type": "code",
   "execution_count": 60,
   "metadata": {},
   "outputs": [],
   "source": [
    "show_names_for_actors2018_2 = award_titles_container2018_2.findAll('div', class_ = 'p1 show-title')\n",
    "\n",
    "for tag in show_names_for_actors2018_2[:13]:\n",
    "    shows_nominated_actors2018.append(tag.text.strip())"
   ]
  },
  {
   "cell_type": "code",
   "execution_count": 61,
   "metadata": {},
   "outputs": [
    {
     "data": {
      "text/plain": [
       "16"
      ]
     },
     "execution_count": 61,
     "metadata": {},
     "output_type": "execute_result"
    }
   ],
   "source": [
    "nominated_shows2018 = dict((x,shows2018.count(x)) for x in shows2018)\n",
    "len(nominated_shows2018)"
   ]
  },
  {
   "cell_type": "code",
   "execution_count": 62,
   "metadata": {},
   "outputs": [
    {
     "data": {
      "text/html": [
       "<div>\n",
       "<style scoped>\n",
       "    .dataframe tbody tr th:only-of-type {\n",
       "        vertical-align: middle;\n",
       "    }\n",
       "\n",
       "    .dataframe tbody tr th {\n",
       "        vertical-align: top;\n",
       "    }\n",
       "\n",
       "    .dataframe thead th {\n",
       "        text-align: right;\n",
       "    }\n",
       "</style>\n",
       "<table border=\"1\" class=\"dataframe\">\n",
       "  <thead>\n",
       "    <tr style=\"text-align: right;\">\n",
       "      <th></th>\n",
       "      <th>Nominations</th>\n",
       "    </tr>\n",
       "  </thead>\n",
       "  <tbody>\n",
       "    <tr>\n",
       "      <th>Atlanta</th>\n",
       "      <td>5</td>\n",
       "    </tr>\n",
       "    <tr>\n",
       "      <th>Barry</th>\n",
       "      <td>4</td>\n",
       "    </tr>\n",
       "    <tr>\n",
       "      <th>black-ish</th>\n",
       "      <td>1</td>\n",
       "    </tr>\n",
       "    <tr>\n",
       "      <th>Curb Your Enthusiasm</th>\n",
       "      <td>1</td>\n",
       "    </tr>\n",
       "    <tr>\n",
       "      <th>GLOW</th>\n",
       "      <td>2</td>\n",
       "    </tr>\n",
       "  </tbody>\n",
       "</table>\n",
       "</div>"
      ],
      "text/plain": [
       "                      Nominations\n",
       "Atlanta                         5\n",
       "Barry                           4\n",
       "black-ish                       1\n",
       "Curb Your Enthusiasm            1\n",
       "GLOW                            2"
      ]
     },
     "execution_count": 62,
     "metadata": {},
     "output_type": "execute_result"
    }
   ],
   "source": [
    "df2018 = pd.DataFrame.from_dict(nominated_shows2018, 'index')\n",
    "df2018.columns = ['Nominations']\n",
    "df2018.head()"
   ]
  },
  {
   "cell_type": "code",
   "execution_count": 63,
   "metadata": {},
   "outputs": [
    {
     "data": {
      "text/plain": [
       "29"
      ]
     },
     "execution_count": 63,
     "metadata": {},
     "output_type": "execute_result"
    }
   ],
   "source": [
    "shows_actors_nom2018 = dict((x, shows_nominated_actors2018.count(x)) for x in shows_nominated_actors2018)\n",
    "len(shows_actors_nom2018)"
   ]
  },
  {
   "cell_type": "code",
   "execution_count": 64,
   "metadata": {},
   "outputs": [],
   "source": [
    "df_2018_1 = pd.DataFrame.from_dict(shows_actors_nom2018, 'index')\n",
    "df_2018_1.columns = ['Actor Nominations']"
   ]
  },
  {
   "cell_type": "code",
   "execution_count": 65,
   "metadata": {},
   "outputs": [
    {
     "data": {
      "text/plain": [
       "31"
      ]
     },
     "execution_count": 65,
     "metadata": {},
     "output_type": "execute_result"
    }
   ],
   "source": [
    "joined_df_2018 = df2018.join(df_2018_1,how='outer')\n",
    "len(joined_df_2018)"
   ]
  },
  {
   "cell_type": "code",
   "execution_count": 66,
   "metadata": {
    "scrolled": true
   },
   "outputs": [
    {
     "data": {
      "text/html": [
       "<div>\n",
       "<style scoped>\n",
       "    .dataframe tbody tr th:only-of-type {\n",
       "        vertical-align: middle;\n",
       "    }\n",
       "\n",
       "    .dataframe tbody tr th {\n",
       "        vertical-align: top;\n",
       "    }\n",
       "\n",
       "    .dataframe thead th {\n",
       "        text-align: right;\n",
       "    }\n",
       "</style>\n",
       "<table border=\"1\" class=\"dataframe\">\n",
       "  <thead>\n",
       "    <tr style=\"text-align: right;\">\n",
       "      <th></th>\n",
       "      <th>Nominations</th>\n",
       "      <th>Actor Nominations</th>\n",
       "      <th>Award Year</th>\n",
       "    </tr>\n",
       "  </thead>\n",
       "  <tbody>\n",
       "    <tr>\n",
       "      <th>Atlanta</th>\n",
       "      <td>5</td>\n",
       "      <td>4</td>\n",
       "      <td>2018</td>\n",
       "    </tr>\n",
       "    <tr>\n",
       "      <th>Barry</th>\n",
       "      <td>4</td>\n",
       "      <td>2</td>\n",
       "      <td>2018</td>\n",
       "    </tr>\n",
       "  </tbody>\n",
       "</table>\n",
       "</div>"
      ],
      "text/plain": [
       "         Nominations  Actor Nominations Award Year\n",
       "Atlanta            5                  4       2018\n",
       "Barry              4                  2       2018"
      ]
     },
     "execution_count": 66,
     "metadata": {},
     "output_type": "execute_result"
    }
   ],
   "source": [
    "joined_df_2018['Award Year'] = '2018'\n",
    "joined_df_2018.head(2)"
   ]
  },
  {
   "cell_type": "code",
   "execution_count": 67,
   "metadata": {},
   "outputs": [],
   "source": [
    "url2017 = 'https://www.emmys.com/awards/nominees-winners/2017'\n",
    "html2017 = requests.get(url2017)\n",
    "soup2017 = BeautifulSoup(html2017.content, 'html.parser')"
   ]
  },
  {
   "cell_type": "code",
   "execution_count": 68,
   "metadata": {},
   "outputs": [],
   "source": [
    "award_titles_container2017 = soup2017.find('div', class_ = 'section-content item-list pt-3 row')\n",
    "\n",
    "titles2017 = award_titles_container2017.findAll('h5', class_ = 'mb-1')\n",
    "\n",
    "show_names_for_actors2017 = award_titles_container2017.findAll('div', class_ = 'p1 show-title')"
   ]
  },
  {
   "cell_type": "code",
   "execution_count": 69,
   "metadata": {},
   "outputs": [],
   "source": [
    "shows2017 =  []\n",
    "shows_nominated_actors2017 = []\n",
    "\n",
    "for tag in titles2017[:7]:\n",
    "    shows2017.append(tag.text.strip())\n",
    "\n",
    "show_names_for_actors2017 = award_titles_container2017.findAll('div', class_ = 'p1 show-title')\n",
    "\n",
    "for tag in show_names_for_actors2017:\n",
    "    shows_nominated_actors2017.append(tag.text.strip())"
   ]
  },
  {
   "cell_type": "code",
   "execution_count": 70,
   "metadata": {},
   "outputs": [],
   "source": [
    "url2017_1 = 'https://www.emmys.com/awards/nominees-winners/2017?page=1'\n",
    "html2017_1 = requests.get(url2017_1)\n",
    "soup2017_1 = BeautifulSoup(html2017_1.content, 'html.parser')"
   ]
  },
  {
   "cell_type": "code",
   "execution_count": 71,
   "metadata": {},
   "outputs": [],
   "source": [
    "award_titles_container2017_1 = soup2017_1.find('div', class_ = 'section-content item-list pt-3 row')\n",
    "\n",
    "titles2017_1 = award_titles_container2017_1.findAll('h5', class_ = 'mb-1')\n",
    "\n",
    "show_names_for_actors2017_1 = award_titles_container2017_1.findAll('div', class_ = 'p1 show-title')"
   ]
  },
  {
   "cell_type": "code",
   "execution_count": 72,
   "metadata": {},
   "outputs": [],
   "source": [
    "for tag in titles2017_1[6:-13]:\n",
    "    shows2017.append(tag.text.strip())\n",
    "\n",
    "show_names_for_actors2017_1 = award_titles_container2017_1.findAll('div', class_ = 'p1 show-title')\n",
    "\n",
    "for tag in show_names_for_actors2017_1:\n",
    "    shows_nominated_actors2017.append(tag.text.strip())"
   ]
  },
  {
   "cell_type": "code",
   "execution_count": 73,
   "metadata": {
    "scrolled": true
   },
   "outputs": [],
   "source": [
    "url2017_2 = 'https://www.emmys.com/awards/nominees-winners/2017?page=2'\n",
    "html2017_2 = requests.get(url2017_2)\n",
    "soup2017_2 = BeautifulSoup(html2017_2.content, 'html.parser')"
   ]
  },
  {
   "cell_type": "code",
   "execution_count": 74,
   "metadata": {},
   "outputs": [],
   "source": [
    "award_titles_container2017_2 = soup2017_2.find('div', class_ = 'section-content item-list pt-3 row')\n",
    "\n",
    "show_names_for_actors2017_2 = award_titles_container2017_2.findAll('div', class_ = 'p1 show-title')"
   ]
  },
  {
   "cell_type": "code",
   "execution_count": 75,
   "metadata": {},
   "outputs": [],
   "source": [
    "for tag in show_names_for_actors2017:\n",
    "    shows_nominated_actors2017.append(tag.text.strip())"
   ]
  },
  {
   "cell_type": "code",
   "execution_count": 76,
   "metadata": {},
   "outputs": [],
   "source": [
    "nominated_shows2017 = dict((x, shows2017.count(x)) for x in shows2017)"
   ]
  },
  {
   "cell_type": "code",
   "execution_count": 77,
   "metadata": {},
   "outputs": [],
   "source": [
    "shows_actor_noms2017 = dict((x, shows_nominated_actors2017.count(x)) for x in shows_nominated_actors2017)"
   ]
  },
  {
   "cell_type": "code",
   "execution_count": 78,
   "metadata": {},
   "outputs": [
    {
     "data": {
      "text/html": [
       "<div>\n",
       "<style scoped>\n",
       "    .dataframe tbody tr th:only-of-type {\n",
       "        vertical-align: middle;\n",
       "    }\n",
       "\n",
       "    .dataframe tbody tr th {\n",
       "        vertical-align: top;\n",
       "    }\n",
       "\n",
       "    .dataframe thead th {\n",
       "        text-align: right;\n",
       "    }\n",
       "</style>\n",
       "<table border=\"1\" class=\"dataframe\">\n",
       "  <thead>\n",
       "    <tr style=\"text-align: right;\">\n",
       "      <th></th>\n",
       "      <th>Nominations</th>\n",
       "    </tr>\n",
       "  </thead>\n",
       "  <tbody>\n",
       "    <tr>\n",
       "      <th>Atlanta</th>\n",
       "      <td>4</td>\n",
       "    </tr>\n",
       "    <tr>\n",
       "      <th>black-ish</th>\n",
       "      <td>1</td>\n",
       "    </tr>\n",
       "    <tr>\n",
       "      <th>Master Of None</th>\n",
       "      <td>2</td>\n",
       "    </tr>\n",
       "    <tr>\n",
       "      <th>Modern Family</th>\n",
       "      <td>1</td>\n",
       "    </tr>\n",
       "    <tr>\n",
       "      <th>Silicon Valley</th>\n",
       "      <td>4</td>\n",
       "    </tr>\n",
       "  </tbody>\n",
       "</table>\n",
       "</div>"
      ],
      "text/plain": [
       "                Nominations\n",
       "Atlanta                   4\n",
       "black-ish                 1\n",
       "Master Of None            2\n",
       "Modern Family             1\n",
       "Silicon Valley            4"
      ]
     },
     "execution_count": 78,
     "metadata": {},
     "output_type": "execute_result"
    }
   ],
   "source": [
    "df2017 = pd.DataFrame.from_dict(nominated_shows2017, 'index')\n",
    "df2017.columns = ['Nominations']\n",
    "df2017.head()"
   ]
  },
  {
   "cell_type": "code",
   "execution_count": 79,
   "metadata": {},
   "outputs": [
    {
     "data": {
      "text/html": [
       "<div>\n",
       "<style scoped>\n",
       "    .dataframe tbody tr th:only-of-type {\n",
       "        vertical-align: middle;\n",
       "    }\n",
       "\n",
       "    .dataframe tbody tr th {\n",
       "        vertical-align: top;\n",
       "    }\n",
       "\n",
       "    .dataframe thead th {\n",
       "        text-align: right;\n",
       "    }\n",
       "</style>\n",
       "<table border=\"1\" class=\"dataframe\">\n",
       "  <thead>\n",
       "    <tr style=\"text-align: right;\">\n",
       "      <th></th>\n",
       "      <th>Actor Nominations</th>\n",
       "    </tr>\n",
       "  </thead>\n",
       "  <tbody>\n",
       "    <tr>\n",
       "      <th>Atlanta</th>\n",
       "      <td>2</td>\n",
       "    </tr>\n",
       "    <tr>\n",
       "      <th>Baskets</th>\n",
       "      <td>4</td>\n",
       "    </tr>\n",
       "    <tr>\n",
       "      <th>black-ish</th>\n",
       "      <td>5</td>\n",
       "    </tr>\n",
       "    <tr>\n",
       "      <th>Master Of None</th>\n",
       "      <td>3</td>\n",
       "    </tr>\n",
       "    <tr>\n",
       "      <th>Shameless</th>\n",
       "      <td>2</td>\n",
       "    </tr>\n",
       "  </tbody>\n",
       "</table>\n",
       "</div>"
      ],
      "text/plain": [
       "                Actor Nominations\n",
       "Atlanta                         2\n",
       "Baskets                         4\n",
       "black-ish                       5\n",
       "Master Of None                  3\n",
       "Shameless                       2"
      ]
     },
     "execution_count": 79,
     "metadata": {},
     "output_type": "execute_result"
    }
   ],
   "source": [
    "df2017_1 = pd.DataFrame.from_dict(shows_actor_noms2017, 'index')\n",
    "df2017_1.columns = ['Actor Nominations']\n",
    "df2017_1.head()"
   ]
  },
  {
   "cell_type": "code",
   "execution_count": 80,
   "metadata": {},
   "outputs": [],
   "source": [
    "joined_df_2017 = df2017.join(df2017_1, how = 'outer')"
   ]
  },
  {
   "cell_type": "code",
   "execution_count": 81,
   "metadata": {},
   "outputs": [],
   "source": [
    "joined_df_2017['Award Year'] = '2017'"
   ]
  },
  {
   "cell_type": "code",
   "execution_count": 82,
   "metadata": {},
   "outputs": [],
   "source": [
    "network = soup3.findAll('div', class_ = 'upper show-network mb-1')"
   ]
  },
  {
   "cell_type": "code",
   "execution_count": 83,
   "metadata": {},
   "outputs": [],
   "source": [
    "network2 = soup4.findAll('div', class_ = 'upper show-network mb-1')"
   ]
  },
  {
   "cell_type": "code",
   "execution_count": 84,
   "metadata": {},
   "outputs": [],
   "source": [
    "network3 = soup5.findAll('div', class_ = 'upper show-network mb-1')"
   ]
  },
  {
   "cell_type": "code",
   "execution_count": 85,
   "metadata": {},
   "outputs": [],
   "source": [
    "networks = []\n",
    "for tag in network:\n",
    "    networks.append(tag.text.strip())"
   ]
  },
  {
   "cell_type": "code",
   "execution_count": 86,
   "metadata": {},
   "outputs": [],
   "source": [
    "for tag in network2:\n",
    "    networks.append(tag.text.strip())"
   ]
  },
  {
   "cell_type": "code",
   "execution_count": 87,
   "metadata": {},
   "outputs": [],
   "source": [
    "for tag in network3[:-5]:\n",
    "    networks.append(tag.text.strip())\n",
    "#networks"
   ]
  },
  {
   "cell_type": "code",
   "execution_count": 88,
   "metadata": {},
   "outputs": [],
   "source": [
    "network2019 = soup2019.findAll('div', class_ = 'upper show-network mb-1')\n",
    "network2019_1 = soup2019_1.findAll('div', class_ = 'upper show-network mb-1')\n",
    "network2019_2 = soup2019_2.findAll('div', class_ = 'upper show-network mb-1')"
   ]
  },
  {
   "cell_type": "code",
   "execution_count": 89,
   "metadata": {},
   "outputs": [],
   "source": [
    "for tag in network2019:\n",
    "    networks.append(tag.text.strip())\n",
    "\n",
    "for tag in network2019_1:\n",
    "    networks.append(tag.text.strip())"
   ]
  },
  {
   "cell_type": "code",
   "execution_count": 90,
   "metadata": {},
   "outputs": [],
   "source": [
    "network2018 = soup2018.findAll('div', class_ = 'upper show-network mb-1')\n",
    "network2018_1 = soup2018_1.findAll('div', class_ = 'upper show-network mb-1')"
   ]
  },
  {
   "cell_type": "code",
   "execution_count": 91,
   "metadata": {},
   "outputs": [],
   "source": [
    "for tag in network2018:\n",
    "    networks.append(tag.text.strip())\n",
    "\n",
    "for tag in network2018_1:\n",
    "    networks.append(tag.text.strip())"
   ]
  },
  {
   "cell_type": "code",
   "execution_count": 92,
   "metadata": {},
   "outputs": [],
   "source": [
    "network2017 = soup2017.findAll('div', class_ = 'upper show-network mb-1')\n",
    "network2017_1 = soup2017_1.findAll('div', class_ = 'upper show-network mb-1')"
   ]
  },
  {
   "cell_type": "code",
   "execution_count": 93,
   "metadata": {},
   "outputs": [],
   "source": [
    "for tag in network2017:\n",
    "    networks.append(tag.text.strip())\n",
    "\n",
    "for tag in network2017_1:\n",
    "    networks.append(tag.text.strip())"
   ]
  },
  {
   "cell_type": "code",
   "execution_count": 94,
   "metadata": {},
   "outputs": [],
   "source": [
    "all_nominated_shows = nominated_shows + shows2019 + shows2018 + shows2017"
   ]
  },
  {
   "cell_type": "code",
   "execution_count": 95,
   "metadata": {},
   "outputs": [
    {
     "name": "stdout",
     "output_type": "stream",
     "text": [
      "112\n",
      "112\n"
     ]
    }
   ],
   "source": [
    "print(len(all_nominated_shows))\n",
    "print(len(networks))"
   ]
  },
  {
   "cell_type": "code",
   "execution_count": 96,
   "metadata": {},
   "outputs": [
    {
     "data": {
      "text/html": [
       "<div>\n",
       "<style scoped>\n",
       "    .dataframe tbody tr th:only-of-type {\n",
       "        vertical-align: middle;\n",
       "    }\n",
       "\n",
       "    .dataframe tbody tr th {\n",
       "        vertical-align: top;\n",
       "    }\n",
       "\n",
       "    .dataframe thead th {\n",
       "        text-align: right;\n",
       "    }\n",
       "</style>\n",
       "<table border=\"1\" class=\"dataframe\">\n",
       "  <thead>\n",
       "    <tr style=\"text-align: right;\">\n",
       "      <th></th>\n",
       "      <th>Network</th>\n",
       "    </tr>\n",
       "  </thead>\n",
       "  <tbody>\n",
       "    <tr>\n",
       "      <th>Curb Your Enthusiasm</th>\n",
       "      <td>HBO</td>\n",
       "    </tr>\n",
       "    <tr>\n",
       "      <th>Dead To Me</th>\n",
       "      <td>Netflix</td>\n",
       "    </tr>\n",
       "    <tr>\n",
       "      <th>Insecure</th>\n",
       "      <td>HBO</td>\n",
       "    </tr>\n",
       "    <tr>\n",
       "      <th>Schitt's Creek</th>\n",
       "      <td>Pop TV</td>\n",
       "    </tr>\n",
       "    <tr>\n",
       "      <th>The Good Place</th>\n",
       "      <td>NBC</td>\n",
       "    </tr>\n",
       "  </tbody>\n",
       "</table>\n",
       "</div>"
      ],
      "text/plain": [
       "                      Network\n",
       "Curb Your Enthusiasm      HBO\n",
       "Dead To Me            Netflix\n",
       "Insecure                  HBO\n",
       "Schitt's Creek         Pop TV\n",
       "The Good Place            NBC"
      ]
     },
     "execution_count": 96,
     "metadata": {},
     "output_type": "execute_result"
    }
   ],
   "source": [
    "network_shows = dict(zip(all_nominated_shows, networks))\n",
    "network_df = pd.DataFrame.from_dict(network_shows,'index')\n",
    "network_df.columns = ['Network']\n",
    "network_df.head()"
   ]
  },
  {
   "cell_type": "code",
   "execution_count": 97,
   "metadata": {},
   "outputs": [],
   "source": [
    "all_dfs = [joined_df, joined_df_2019, joined_df_2018, joined_df_2017]\n",
    "combined_df = pd.concat(all_dfs)"
   ]
  },
  {
   "cell_type": "code",
   "execution_count": 98,
   "metadata": {
    "scrolled": false
   },
   "outputs": [
    {
     "data": {
      "text/html": [
       "<div>\n",
       "<style scoped>\n",
       "    .dataframe tbody tr th:only-of-type {\n",
       "        vertical-align: middle;\n",
       "    }\n",
       "\n",
       "    .dataframe tbody tr th {\n",
       "        vertical-align: top;\n",
       "    }\n",
       "\n",
       "    .dataframe thead th {\n",
       "        text-align: right;\n",
       "    }\n",
       "</style>\n",
       "<table border=\"1\" class=\"dataframe\">\n",
       "  <thead>\n",
       "    <tr style=\"text-align: right;\">\n",
       "      <th></th>\n",
       "      <th>Nominations</th>\n",
       "      <th>Actor Nominations</th>\n",
       "      <th>Award Year</th>\n",
       "      <th>Network</th>\n",
       "    </tr>\n",
       "  </thead>\n",
       "  <tbody>\n",
       "    <tr>\n",
       "      <th>A Black Lady Sketch Show</th>\n",
       "      <td>0</td>\n",
       "      <td>1</td>\n",
       "      <td>2020</td>\n",
       "      <td>0</td>\n",
       "    </tr>\n",
       "    <tr>\n",
       "      <th>Atlanta</th>\n",
       "      <td>5</td>\n",
       "      <td>4</td>\n",
       "      <td>2018</td>\n",
       "      <td>FX Networks</td>\n",
       "    </tr>\n",
       "    <tr>\n",
       "      <th>Atlanta</th>\n",
       "      <td>4</td>\n",
       "      <td>2</td>\n",
       "      <td>2017</td>\n",
       "      <td>FX Networks</td>\n",
       "    </tr>\n",
       "    <tr>\n",
       "      <th>Barry</th>\n",
       "      <td>4</td>\n",
       "      <td>5</td>\n",
       "      <td>2019</td>\n",
       "      <td>HBO</td>\n",
       "    </tr>\n",
       "    <tr>\n",
       "      <th>Barry</th>\n",
       "      <td>4</td>\n",
       "      <td>2</td>\n",
       "      <td>2018</td>\n",
       "      <td>HBO</td>\n",
       "    </tr>\n",
       "    <tr>\n",
       "      <th>...</th>\n",
       "      <td>...</td>\n",
       "      <td>...</td>\n",
       "      <td>...</td>\n",
       "      <td>...</td>\n",
       "    </tr>\n",
       "    <tr>\n",
       "      <th>Will &amp; Grace</th>\n",
       "      <td>0</td>\n",
       "      <td>2</td>\n",
       "      <td>2018</td>\n",
       "      <td>NBC</td>\n",
       "    </tr>\n",
       "    <tr>\n",
       "      <th>black-ish</th>\n",
       "      <td>0</td>\n",
       "      <td>2</td>\n",
       "      <td>2020</td>\n",
       "      <td>ABC</td>\n",
       "    </tr>\n",
       "    <tr>\n",
       "      <th>black-ish</th>\n",
       "      <td>0</td>\n",
       "      <td>1</td>\n",
       "      <td>2019</td>\n",
       "      <td>ABC</td>\n",
       "    </tr>\n",
       "    <tr>\n",
       "      <th>black-ish</th>\n",
       "      <td>1</td>\n",
       "      <td>3</td>\n",
       "      <td>2018</td>\n",
       "      <td>ABC</td>\n",
       "    </tr>\n",
       "    <tr>\n",
       "      <th>black-ish</th>\n",
       "      <td>1</td>\n",
       "      <td>5</td>\n",
       "      <td>2017</td>\n",
       "      <td>ABC</td>\n",
       "    </tr>\n",
       "  </tbody>\n",
       "</table>\n",
       "<p>121 rows × 4 columns</p>\n",
       "</div>"
      ],
      "text/plain": [
       "                          Nominations  Actor Nominations Award Year  \\\n",
       "A Black Lady Sketch Show            0                  1       2020   \n",
       "Atlanta                             5                  4       2018   \n",
       "Atlanta                             4                  2       2017   \n",
       "Barry                               4                  5       2019   \n",
       "Barry                               4                  2       2018   \n",
       "...                               ...                ...        ...   \n",
       "Will & Grace                        0                  2       2018   \n",
       "black-ish                           0                  2       2020   \n",
       "black-ish                           0                  1       2019   \n",
       "black-ish                           1                  3       2018   \n",
       "black-ish                           1                  5       2017   \n",
       "\n",
       "                              Network  \n",
       "A Black Lady Sketch Show            0  \n",
       "Atlanta                   FX Networks  \n",
       "Atlanta                   FX Networks  \n",
       "Barry                             HBO  \n",
       "Barry                             HBO  \n",
       "...                               ...  \n",
       "Will & Grace                      NBC  \n",
       "black-ish                         ABC  \n",
       "black-ish                         ABC  \n",
       "black-ish                         ABC  \n",
       "black-ish                         ABC  \n",
       "\n",
       "[121 rows x 4 columns]"
      ]
     },
     "execution_count": 98,
     "metadata": {},
     "output_type": "execute_result"
    }
   ],
   "source": [
    "awards_df = combined_df.join(network_df, how = 'left')\n",
    "awards_df.fillna(0,inplace=True)\n",
    "awards_df"
   ]
  },
  {
   "cell_type": "code",
   "execution_count": 99,
   "metadata": {},
   "outputs": [],
   "source": [
    "url_netflix = 'https://www.the-numbers.com/home-market/netflix-daily-chart/2020/06/01'\n",
    "response_ntflx = requests.get(url_netflix)\n",
    "soup = BeautifulSoup(response_ntflx.content, 'html.parser')\n",
    "\n",
    "z = soup.find_all('td')"
   ]
  },
  {
   "cell_type": "code",
   "execution_count": 100,
   "metadata": {
    "scrolled": false
   },
   "outputs": [
    {
     "data": {
      "text/plain": [
       "[<td class=\"previous\"><a href=\"/home-market/netflix-daily-chart/2020/05/31\">← Previous Chart</a></td>,\n",
       " <td class=\"index\"><a href=\"/home-market/netflix-chart-archive\">Chart Index</a></td>,\n",
       " <td class=\"next\"><a href=\"/home-market/netflix-daily-chart/2020/06/02\">Next Chart →</a></td>,\n",
       " <td class=\"data\" data-sort=\"1\">1</td>,\n",
       " <td class=\"data\" data-sort=\"1\">(1)</td>,\n",
       " <td class=\"data\" data-sort=\"999\">(-)</td>,\n",
       " <td><b><a href=\"/tv-show/Space-Force#tab=netflix\">Space Force</a></b></td>,\n",
       " <td>TV Show</td>,\n",
       " <td class=\"data\">Yes</td>,\n",
       " <td><a href=\"/home-market/netflix-daily-chart/2020/05/29\">May 29, 2020</a></td>,\n",
       " <td class=\"data\">3</td>,\n",
       " <td class=\"data\">30</td>,\n",
       " <td><a href=\"https://www.netflix.com/title/81021929\" rel=\"nofollow\" target=\"_NewWindow\">Watch Now</a></td>,\n",
       " <td class=\"data\" data-sort=\"2\">2</td>,\n",
       " <td class=\"data\" data-sort=\"2\">(2)</td>,\n",
       " <td class=\"data\" data-sort=\"999\">(-)</td>,\n",
       " <td><b><a href=\"/tv-show/Jeffrey-Epstein-Filthy-Rich#tab=netflix\">Jeffrey Epstein: Filthy Rich</a></b></td>,\n",
       " <td>TV Show</td>,\n",
       " <td class=\"data\">Yes</td>,\n",
       " <td><a href=\"/home-market/netflix-daily-chart/2020/05/27\">May 27, 2020</a></td>,\n",
       " <td class=\"data\">5</td>,\n",
       " <td class=\"data\">47</td>,\n",
       " <td><a href=\"https://www.netflix.com/title/80224905\" rel=\"nofollow\" target=\"_NewWindow\">Watch Now</a></td>,\n",
       " <td class=\"data chart_up\" data-sort=\"3\"><b>3</b></td>,\n",
       " <td class=\"data\" data-sort=\"4\">(4)</td>,\n",
       " <td class=\"data\" data-sort=\"1\">(1)</td>,\n",
       " <td><b><a href=\"/tv-show/Sweet-Magnolias#tab=netflix\">Sweet Magnolias</a></b></td>,\n",
       " <td>TV Show</td>,\n",
       " <td class=\"data\">Yes</td>,\n",
       " <td><a href=\"/home-market/netflix-daily-chart/2020/05/19\">May 19, 2020</a></td>,\n",
       " <td class=\"data\">13</td>,\n",
       " <td class=\"data\">110</td>,\n",
       " <td><a href=\"https://www.netflix.com/title/80239866\" rel=\"nofollow\" target=\"_NewWindow\">Watch Now</a></td>,\n",
       " <td class=\"data chart_down\" data-sort=\"4\">4</td>,\n",
       " <td class=\"data\" data-sort=\"3\">(3)</td>,\n",
       " <td class=\"data\" data-sort=\"999\">(-)</td>,\n",
       " <td><b><a href=\"/movie/Uncut-Gems#tab=video-sales\">Uncut Gems</a></b></td>,\n",
       " <td>Movie</td>,\n",
       " <td></td>,\n",
       " <td></td>,\n",
       " <td class=\"data\">7</td>,\n",
       " <td class=\"data\">59</td>,\n",
       " <td></td>,\n",
       " <td class=\"data\" data-sort=\"5\">5</td>,\n",
       " <td class=\"data\" data-sort=\"5\">(5)</td>,\n",
       " <td class=\"data\" data-sort=\"2\">(2)</td>,\n",
       " <td><b><a href=\"/tv-show/Avatar-the-Last-Airbender#tab=netflix\">Avatar the Last Airbender</a></b></td>,\n",
       " <td>TV Show</td>,\n",
       " <td></td>,\n",
       " <td></td>,\n",
       " <td class=\"data\">14</td>,\n",
       " <td class=\"data\">117</td>,\n",
       " <td><a href=\"https://www.netflix.com/title/80237957\" rel=\"nofollow\" target=\"_NewWindow\">Watch Now</a></td>,\n",
       " <td class=\"data\" data-sort=\"6\">6</td>,\n",
       " <td class=\"data\" data-sort=\"6\">(6)</td>,\n",
       " <td class=\"data\" data-sort=\"6\">(6)</td>,\n",
       " <td><b><a href=\"/tv-show/Dead-to-Me#tab=netflix\">Dead to Me</a></b></td>,\n",
       " <td>TV Show</td>,\n",
       " <td class=\"data\">Yes</td>,\n",
       " <td><a href=\"/home-market/netflix-daily-chart/2020/05/08\">May 8, 2020</a></td>,\n",
       " <td class=\"data\">24</td>,\n",
       " <td class=\"data\">175</td>,\n",
       " <td><a href=\"https://www.netflix.com/title/80219707\" rel=\"nofollow\" target=\"_NewWindow\">Watch Now</a></td>,\n",
       " <td class=\"data chart_up\" data-sort=\"7\"><b>7</b></td>,\n",
       " <td class=\"data\" data-sort=\"8\">(8)</td>,\n",
       " <td class=\"data\" data-sort=\"9\">(9)</td>,\n",
       " <td><b><a href=\"/tv-show/Riverdale#tab=netflix\">Riverdale</a></b></td>,\n",
       " <td>TV Show</td>,\n",
       " <td></td>,\n",
       " <td></td>,\n",
       " <td class=\"data\">18</td>,\n",
       " <td class=\"data\">103</td>,\n",
       " <td><a href=\"https://www.netflix.com/title/80133311\" rel=\"nofollow\" target=\"_NewWindow\">Watch Now</a></td>,\n",
       " <td class=\"data chart_down\" data-sort=\"8\">8</td>,\n",
       " <td class=\"data\" data-sort=\"7\">(7)</td>,\n",
       " <td class=\"data\" data-sort=\"5\">(5)</td>,\n",
       " <td><b><a href=\"/movie/Just-Go-With-It#tab=video-sales\">Just Go With It</a></b></td>,\n",
       " <td>Movie</td>,\n",
       " <td></td>,\n",
       " <td></td>,\n",
       " <td class=\"data\">10</td>,\n",
       " <td class=\"data\">38</td>,\n",
       " <td></td>,\n",
       " <td class=\"data chart_up\" data-sort=\"9\"><b>9</b></td>,\n",
       " <td class=\"data\" data-sort=\"10\">(10)</td>,\n",
       " <td class=\"data\" data-sort=\"8\">(8)</td>,\n",
       " <td><b><a href=\"/tv-show/History-101#tab=netflix\">History 101</a></b></td>,\n",
       " <td>TV Show</td>,\n",
       " <td class=\"data\">Yes</td>,\n",
       " <td><a href=\"/home-market/netflix-daily-chart/2020/05/22\">May 22, 2020</a></td>,\n",
       " <td class=\"data\">8</td>,\n",
       " <td class=\"data\">28</td>,\n",
       " <td><a href=\"https://www.netflix.com/title/81116168\" rel=\"nofollow\" target=\"_NewWindow\">Watch Now</a></td>,\n",
       " <td class=\"data chart_down\" data-sort=\"10\">10</td>,\n",
       " <td class=\"data\" data-sort=\"9\">(9)</td>,\n",
       " <td class=\"data\" data-sort=\"7\">(7)</td>,\n",
       " <td><b><a href=\"/tv-show/Flash-The#tab=netflix\">The Flash</a></b></td>,\n",
       " <td>TV Show</td>,\n",
       " <td></td>,\n",
       " <td></td>,\n",
       " <td class=\"data\">12</td>,\n",
       " <td class=\"data\">36</td>,\n",
       " <td><a href=\"https://www.netflix.com/title/80027042\" rel=\"nofollow\" target=\"_NewWindow\">Watch Now</a></td>]"
      ]
     },
     "execution_count": 100,
     "metadata": {},
     "output_type": "execute_result"
    }
   ],
   "source": [
    "z"
   ]
  },
  {
   "cell_type": "code",
   "execution_count": 101,
   "metadata": {},
   "outputs": [],
   "source": [
    "title1 = []\n",
    "types1 = []\n",
    "days1 = []\n",
    "scores1 = []\n",
    "\n",
    "for i in range(1,30):\n",
    "    url_netflix = 'https://www.the-numbers.com/home-market/netflix-daily-chart/2020/06/{}'.format(i)\n",
    "    response_ntflx = requests.get(url_netflix)\n",
    "    soup = BeautifulSoup(response_ntflx.content, 'html.parser')\n",
    "    \n",
    "    z = soup.find_all('td')\n",
    "    \n",
    "    z.pop(0)\n",
    "    z.pop(0)\n",
    "    z.pop(0)\n",
    "    \n",
    "    # TITLE - FIRST INSTANCE\n",
    "    title = z[3::10]\n",
    "    \n",
    "    for titl in title:\n",
    "        title1.append(titl.text)\n",
    "    \n",
    "    # TYPE - FIRST INSTANCE\n",
    "    types = z[4::10]\n",
    "    \n",
    "    for typ in types:\n",
    "        types1.append(typ.text)\n",
    "    \n",
    "    days = z[7::10]\n",
    "    \n",
    "    for day in days: \n",
    "        days1.append(day.text)\n",
    "        \n",
    "    scores = z[8::10]\n",
    "    \n",
    "    for score in scores:\n",
    "        scores1.append(score.text)"
   ]
  },
  {
   "cell_type": "code",
   "execution_count": 102,
   "metadata": {},
   "outputs": [],
   "source": [
    "for i in range(1,31):\n",
    "    url_netflix = 'https://www.the-numbers.com/home-market/netflix-daily-chart/2020/07/{}'.format(i)\n",
    "    response_ntflx = requests.get(url_netflix)\n",
    "    soup = BeautifulSoup(response_ntflx.content, 'html.parser')\n",
    "    \n",
    "    z = soup.find_all('td')\n",
    "\n",
    "    z.pop(0)\n",
    "    z.pop(0)\n",
    "    z.pop(0)\n",
    "    \n",
    "    # TITLE - FIRST INSTANCE\n",
    "    title = (z[3::10])\n",
    "    \n",
    "    for titl in title:\n",
    "        title1.append(titl.text)\n",
    "    \n",
    "    # TYPE - FIRST INSTANCE\n",
    "    types = (z[4::10])\n",
    "    \n",
    "    for typ in types:\n",
    "        types1.append(typ.text)\n",
    "    \n",
    "    days = z[7::10]\n",
    "    \n",
    "    for day in days: \n",
    "        days1.append(day.text)\n",
    "        \n",
    "    scores = z[8::10]\n",
    "    \n",
    "    for score in scores:\n",
    "        scores1.append(score.text)"
   ]
  },
  {
   "cell_type": "code",
   "execution_count": 103,
   "metadata": {
    "scrolled": true
   },
   "outputs": [],
   "source": [
    "for i in range(1,31):\n",
    "    url_netflix = 'https://www.the-numbers.com/home-market/netflix-daily-chart/2020/08/{}'.format(i)\n",
    "    response_ntflx = requests.get(url_netflix)\n",
    "    soup = BeautifulSoup(response_ntflx.content, 'html.parser')\n",
    "    \n",
    "\n",
    "    z = soup.find_all('td')\n",
    "\n",
    "    \n",
    "    try:\n",
    "        z.pop(0) \n",
    "    except IndexError:\n",
    "        continue \n",
    "    z.pop(0)\n",
    "    z.pop(0)\n",
    "    \n",
    "    # TITLE - FIRST INSTANCE\n",
    "    title = (z[3::10])\n",
    "    \n",
    "    for titl in title:\n",
    "         title1.append(titl.text)\n",
    "    \n",
    "    # TYPE - FIRST INSTANCE\n",
    "    types = (z[4::10])\n",
    "    \n",
    "    for typ in types:\n",
    "         types1.append(typ.text)\n",
    "    \n",
    "    days = z[7::10]\n",
    "    \n",
    "    for day in days: \n",
    "        days1.append(day.text)\n",
    "        \n",
    "    scores = z[8::10]\n",
    "    \n",
    "    for score in scores:\n",
    "        scores1.append(score.text)"
   ]
  },
  {
   "cell_type": "code",
   "execution_count": 104,
   "metadata": {},
   "outputs": [],
   "source": [
    "for i in range(1,30):\n",
    "    url_netflix = 'https://www.the-numbers.com/home-market/netflix-daily-chart/2020/09/{}'.format(i)\n",
    "    response_ntflx = requests.get(url_netflix)\n",
    "    soup = BeautifulSoup(response_ntflx.content, 'html.parser')\n",
    "    \n",
    "    z = soup.find_all('td')\n",
    "    \n",
    "    z.pop(0)\n",
    "    z.pop(0)\n",
    "    z.pop(0)\n",
    "    \n",
    "    # TITLE - FIRST INSTANCE\n",
    "    title = (z[3::10])\n",
    "    \n",
    "    for titl in title:\n",
    "        title1.append(titl.text)\n",
    "    \n",
    "    # TYPE - FIRST INSTANCE\n",
    "    types = (z[4::10])\n",
    "    \n",
    "    for typ in types:\n",
    "        types1.append(typ.text)\n",
    "    \n",
    "    days = z[7::10]\n",
    "    \n",
    "    for day in days: \n",
    "        days1.append(day.text)\n",
    "        \n",
    "    scores = z[8::10]\n",
    "    \n",
    "    for score in scores:\n",
    "        scores1.append(score.text)"
   ]
  },
  {
   "cell_type": "code",
   "execution_count": 105,
   "metadata": {},
   "outputs": [
    {
     "data": {
      "text/plain": [
       "<generator object <genexpr> at 0x0000020CB49D2468>"
      ]
     },
     "execution_count": 105,
     "metadata": {},
     "output_type": "execute_result"
    }
   ],
   "source": [
    "show_count = ((x, title1.count(x)) for x in title1)\n",
    "show_count"
   ]
  },
  {
   "cell_type": "code",
   "execution_count": 106,
   "metadata": {},
   "outputs": [],
   "source": [
    "top_ten_data = dict(zip(title1, zip(types1, days1)))\n"
   ]
  },
  {
   "cell_type": "code",
   "execution_count": 107,
   "metadata": {
    "scrolled": true
   },
   "outputs": [
    {
     "name": "stdout",
     "output_type": "stream",
     "text": [
      "1148\n",
      "1148\n",
      "1148\n",
      "1148\n"
     ]
    }
   ],
   "source": [
    "print(len(title1))\n",
    "print(len(types1))\n",
    "print(len(days1))\n",
    "print(len(scores1))"
   ]
  },
  {
   "cell_type": "code",
   "execution_count": 108,
   "metadata": {},
   "outputs": [
    {
     "data": {
      "text/html": [
       "<div>\n",
       "<style scoped>\n",
       "    .dataframe tbody tr th:only-of-type {\n",
       "        vertical-align: middle;\n",
       "    }\n",
       "\n",
       "    .dataframe tbody tr th {\n",
       "        vertical-align: top;\n",
       "    }\n",
       "\n",
       "    .dataframe thead th {\n",
       "        text-align: right;\n",
       "    }\n",
       "</style>\n",
       "<table border=\"1\" class=\"dataframe\">\n",
       "  <thead>\n",
       "    <tr style=\"text-align: right;\">\n",
       "      <th></th>\n",
       "      <th>Title</th>\n",
       "    </tr>\n",
       "  </thead>\n",
       "  <tbody>\n",
       "    <tr>\n",
       "      <th>0</th>\n",
       "      <td>Space Force</td>\n",
       "    </tr>\n",
       "    <tr>\n",
       "      <th>1</th>\n",
       "      <td>Jeffrey Epstein: Filthy Rich</td>\n",
       "    </tr>\n",
       "    <tr>\n",
       "      <th>2</th>\n",
       "      <td>Sweet Magnolias</td>\n",
       "    </tr>\n",
       "    <tr>\n",
       "      <th>3</th>\n",
       "      <td>Uncut Gems</td>\n",
       "    </tr>\n",
       "    <tr>\n",
       "      <th>4</th>\n",
       "      <td>Avatar the Last Airbender</td>\n",
       "    </tr>\n",
       "    <tr>\n",
       "      <th>...</th>\n",
       "      <td>...</td>\n",
       "    </tr>\n",
       "    <tr>\n",
       "      <th>1143</th>\n",
       "      <td>Jurassic World: Camp Cretac…</td>\n",
       "    </tr>\n",
       "    <tr>\n",
       "      <th>1144</th>\n",
       "      <td>Sneakerheads</td>\n",
       "    </tr>\n",
       "    <tr>\n",
       "      <th>1145</th>\n",
       "      <td>Cocomelon</td>\n",
       "    </tr>\n",
       "    <tr>\n",
       "      <th>1146</th>\n",
       "      <td>Cobra Kai</td>\n",
       "    </tr>\n",
       "    <tr>\n",
       "      <th>1147</th>\n",
       "      <td>The Blacklist</td>\n",
       "    </tr>\n",
       "  </tbody>\n",
       "</table>\n",
       "<p>1148 rows × 1 columns</p>\n",
       "</div>"
      ],
      "text/plain": [
       "                             Title\n",
       "0                      Space Force\n",
       "1     Jeffrey Epstein: Filthy Rich\n",
       "2                  Sweet Magnolias\n",
       "3                       Uncut Gems\n",
       "4        Avatar the Last Airbender\n",
       "...                            ...\n",
       "1143  Jurassic World: Camp Cretac…\n",
       "1144                  Sneakerheads\n",
       "1145                     Cocomelon\n",
       "1146                     Cobra Kai\n",
       "1147                 The Blacklist\n",
       "\n",
       "[1148 rows x 1 columns]"
      ]
     },
     "execution_count": 108,
     "metadata": {},
     "output_type": "execute_result"
    }
   ],
   "source": [
    "top_ten = pd.DataFrame(title1)\n",
    "top_ten.columns = ['Title']\n",
    "top_ten"
   ]
  },
  {
   "cell_type": "code",
   "execution_count": 109,
   "metadata": {},
   "outputs": [],
   "source": [
    "top_ten['Type'] = types1\n",
    "top_ten['Days in Top 10'] = days1\n",
    "top_ten['Viewership Scores'] = scores1"
   ]
  },
  {
   "cell_type": "code",
   "execution_count": 110,
   "metadata": {},
   "outputs": [
    {
     "data": {
      "text/html": [
       "<div>\n",
       "<style scoped>\n",
       "    .dataframe tbody tr th:only-of-type {\n",
       "        vertical-align: middle;\n",
       "    }\n",
       "\n",
       "    .dataframe tbody tr th {\n",
       "        vertical-align: top;\n",
       "    }\n",
       "\n",
       "    .dataframe thead th {\n",
       "        text-align: right;\n",
       "    }\n",
       "</style>\n",
       "<table border=\"1\" class=\"dataframe\">\n",
       "  <thead>\n",
       "    <tr style=\"text-align: right;\">\n",
       "      <th></th>\n",
       "      <th>Title</th>\n",
       "      <th>Type</th>\n",
       "      <th>Days in Top 10</th>\n",
       "      <th>Viewership Scores</th>\n",
       "    </tr>\n",
       "  </thead>\n",
       "  <tbody>\n",
       "    <tr>\n",
       "      <th>0</th>\n",
       "      <td>Space Force</td>\n",
       "      <td>TV Show</td>\n",
       "      <td>3</td>\n",
       "      <td>30</td>\n",
       "    </tr>\n",
       "    <tr>\n",
       "      <th>1</th>\n",
       "      <td>Jeffrey Epstein: Filthy Rich</td>\n",
       "      <td>TV Show</td>\n",
       "      <td>5</td>\n",
       "      <td>47</td>\n",
       "    </tr>\n",
       "    <tr>\n",
       "      <th>2</th>\n",
       "      <td>Sweet Magnolias</td>\n",
       "      <td>TV Show</td>\n",
       "      <td>13</td>\n",
       "      <td>110</td>\n",
       "    </tr>\n",
       "    <tr>\n",
       "      <th>3</th>\n",
       "      <td>Uncut Gems</td>\n",
       "      <td>Movie</td>\n",
       "      <td>7</td>\n",
       "      <td>59</td>\n",
       "    </tr>\n",
       "    <tr>\n",
       "      <th>4</th>\n",
       "      <td>Avatar the Last Airbender</td>\n",
       "      <td>TV Show</td>\n",
       "      <td>14</td>\n",
       "      <td>117</td>\n",
       "    </tr>\n",
       "    <tr>\n",
       "      <th>...</th>\n",
       "      <td>...</td>\n",
       "      <td>...</td>\n",
       "      <td>...</td>\n",
       "      <td>...</td>\n",
       "    </tr>\n",
       "    <tr>\n",
       "      <th>1143</th>\n",
       "      <td>Jurassic World: Camp Cretac…</td>\n",
       "      <td>TV Show</td>\n",
       "      <td>11</td>\n",
       "      <td>84</td>\n",
       "    </tr>\n",
       "    <tr>\n",
       "      <th>1144</th>\n",
       "      <td>Sneakerheads</td>\n",
       "      <td>TV Show</td>\n",
       "      <td>3</td>\n",
       "      <td>9</td>\n",
       "    </tr>\n",
       "    <tr>\n",
       "      <th>1145</th>\n",
       "      <td>Cocomelon</td>\n",
       "      <td>TV Show</td>\n",
       "      <td>19</td>\n",
       "      <td>43</td>\n",
       "    </tr>\n",
       "    <tr>\n",
       "      <th>1146</th>\n",
       "      <td>Cobra Kai</td>\n",
       "      <td>TV Show</td>\n",
       "      <td>31</td>\n",
       "      <td>216</td>\n",
       "    </tr>\n",
       "    <tr>\n",
       "      <th>1147</th>\n",
       "      <td>The Blacklist</td>\n",
       "      <td>TV Show</td>\n",
       "      <td>7</td>\n",
       "      <td>22</td>\n",
       "    </tr>\n",
       "  </tbody>\n",
       "</table>\n",
       "<p>1148 rows × 4 columns</p>\n",
       "</div>"
      ],
      "text/plain": [
       "                             Title     Type Days in Top 10 Viewership Scores\n",
       "0                      Space Force  TV Show              3                30\n",
       "1     Jeffrey Epstein: Filthy Rich  TV Show              5                47\n",
       "2                  Sweet Magnolias  TV Show             13               110\n",
       "3                       Uncut Gems    Movie              7                59\n",
       "4        Avatar the Last Airbender  TV Show             14               117\n",
       "...                            ...      ...            ...               ...\n",
       "1143  Jurassic World: Camp Cretac…  TV Show             11                84\n",
       "1144                  Sneakerheads  TV Show              3                 9\n",
       "1145                     Cocomelon  TV Show             19                43\n",
       "1146                     Cobra Kai  TV Show             31               216\n",
       "1147                 The Blacklist  TV Show              7                22\n",
       "\n",
       "[1148 rows x 4 columns]"
      ]
     },
     "execution_count": 110,
     "metadata": {},
     "output_type": "execute_result"
    }
   ],
   "source": [
    "top_ten"
   ]
  },
  {
   "cell_type": "markdown",
   "metadata": {},
   "source": [
    "# CLEANING DATA"
   ]
  },
  {
   "cell_type": "code",
   "execution_count": 111,
   "metadata": {},
   "outputs": [
    {
     "data": {
      "text/plain": [
       "{'TV Show': 703, 'Movie': 440, 'Stand-Up Comedy': 5}"
      ]
     },
     "execution_count": 111,
     "metadata": {},
     "output_type": "execute_result"
    }
   ],
   "source": [
    "# Count of each type\n",
    "type_count = dict((x, types1.count(x)) for x in types1)\n",
    "type_count"
   ]
  },
  {
   "cell_type": "code",
   "execution_count": 112,
   "metadata": {},
   "outputs": [
    {
     "name": "stdout",
     "output_type": "stream",
     "text": [
      "<class 'pandas.core.frame.DataFrame'>\n",
      "RangeIndex: 1148 entries, 0 to 1147\n",
      "Data columns (total 4 columns):\n",
      "Title                1148 non-null object\n",
      "Type                 1148 non-null object\n",
      "Days in Top 10       1148 non-null object\n",
      "Viewership Scores    1148 non-null object\n",
      "dtypes: object(4)\n",
      "memory usage: 36.0+ KB\n"
     ]
    }
   ],
   "source": [
    "top_ten.info()"
   ]
  },
  {
   "cell_type": "code",
   "execution_count": 113,
   "metadata": {},
   "outputs": [
    {
     "name": "stdout",
     "output_type": "stream",
     "text": [
      "0\n"
     ]
    },
    {
     "data": {
      "text/html": [
       "<div>\n",
       "<style scoped>\n",
       "    .dataframe tbody tr th:only-of-type {\n",
       "        vertical-align: middle;\n",
       "    }\n",
       "\n",
       "    .dataframe tbody tr th {\n",
       "        vertical-align: top;\n",
       "    }\n",
       "\n",
       "    .dataframe thead th {\n",
       "        text-align: right;\n",
       "    }\n",
       "</style>\n",
       "<table border=\"1\" class=\"dataframe\">\n",
       "  <thead>\n",
       "    <tr style=\"text-align: right;\">\n",
       "      <th></th>\n",
       "      <th>Title</th>\n",
       "      <th>Type</th>\n",
       "      <th>Days in Top 10</th>\n",
       "      <th>Viewership Scores</th>\n",
       "    </tr>\n",
       "  </thead>\n",
       "  <tbody>\n",
       "  </tbody>\n",
       "</table>\n",
       "</div>"
      ],
      "text/plain": [
       "Empty DataFrame\n",
       "Columns: [Title, Type, Days in Top 10, Viewership Scores]\n",
       "Index: []"
      ]
     },
     "execution_count": 113,
     "metadata": {},
     "output_type": "execute_result"
    }
   ],
   "source": [
    "# Check for duplicates\n",
    "duplicates = top_ten[top_ten.duplicated()]\n",
    "print(len(duplicates))\n",
    "duplicates.head()"
   ]
  },
  {
   "cell_type": "code",
   "execution_count": 114,
   "metadata": {},
   "outputs": [
    {
     "data": {
      "text/html": [
       "<div>\n",
       "<style scoped>\n",
       "    .dataframe tbody tr th:only-of-type {\n",
       "        vertical-align: middle;\n",
       "    }\n",
       "\n",
       "    .dataframe tbody tr th {\n",
       "        vertical-align: top;\n",
       "    }\n",
       "\n",
       "    .dataframe thead th {\n",
       "        text-align: right;\n",
       "    }\n",
       "</style>\n",
       "<table border=\"1\" class=\"dataframe\">\n",
       "  <thead>\n",
       "    <tr style=\"text-align: right;\">\n",
       "      <th></th>\n",
       "      <th>title</th>\n",
       "      <th>type</th>\n",
       "      <th>days in top 10</th>\n",
       "      <th>viewership scores</th>\n",
       "    </tr>\n",
       "  </thead>\n",
       "  <tbody>\n",
       "    <tr>\n",
       "      <th>0</th>\n",
       "      <td>Space Force</td>\n",
       "      <td>TV Show</td>\n",
       "      <td>3</td>\n",
       "      <td>30</td>\n",
       "    </tr>\n",
       "    <tr>\n",
       "      <th>1</th>\n",
       "      <td>Jeffrey Epstein: Filthy Rich</td>\n",
       "      <td>TV Show</td>\n",
       "      <td>5</td>\n",
       "      <td>47</td>\n",
       "    </tr>\n",
       "    <tr>\n",
       "      <th>2</th>\n",
       "      <td>Sweet Magnolias</td>\n",
       "      <td>TV Show</td>\n",
       "      <td>13</td>\n",
       "      <td>110</td>\n",
       "    </tr>\n",
       "    <tr>\n",
       "      <th>3</th>\n",
       "      <td>Uncut Gems</td>\n",
       "      <td>Movie</td>\n",
       "      <td>7</td>\n",
       "      <td>59</td>\n",
       "    </tr>\n",
       "    <tr>\n",
       "      <th>4</th>\n",
       "      <td>Avatar the Last Airbender</td>\n",
       "      <td>TV Show</td>\n",
       "      <td>14</td>\n",
       "      <td>117</td>\n",
       "    </tr>\n",
       "  </tbody>\n",
       "</table>\n",
       "</div>"
      ],
      "text/plain": [
       "                          title     type days in top 10 viewership scores\n",
       "0                   Space Force  TV Show              3                30\n",
       "1  Jeffrey Epstein: Filthy Rich  TV Show              5                47\n",
       "2               Sweet Magnolias  TV Show             13               110\n",
       "3                    Uncut Gems    Movie              7                59\n",
       "4     Avatar the Last Airbender  TV Show             14               117"
      ]
     },
     "execution_count": 114,
     "metadata": {},
     "output_type": "execute_result"
    }
   ],
   "source": [
    "# lowercase all columns\n",
    "top_ten.columns = map(str.lower, top_ten.columns)\n",
    "top_ten.head()"
   ]
  },
  {
   "cell_type": "code",
   "execution_count": 115,
   "metadata": {},
   "outputs": [],
   "source": [
    "# Rename columns\n",
    "top_ten.rename(columns={'days in top 10': 'days_in_top10'}, inplace=True)\n"
   ]
  },
  {
   "cell_type": "code",
   "execution_count": 116,
   "metadata": {},
   "outputs": [],
   "source": [
    "top_ten.rename(columns={'viewership scores': 'viewership_score'}, inplace=True)"
   ]
  },
  {
   "cell_type": "code",
   "execution_count": 117,
   "metadata": {},
   "outputs": [
    {
     "data": {
      "text/html": [
       "<div>\n",
       "<style scoped>\n",
       "    .dataframe tbody tr th:only-of-type {\n",
       "        vertical-align: middle;\n",
       "    }\n",
       "\n",
       "    .dataframe tbody tr th {\n",
       "        vertical-align: top;\n",
       "    }\n",
       "\n",
       "    .dataframe thead th {\n",
       "        text-align: right;\n",
       "    }\n",
       "</style>\n",
       "<table border=\"1\" class=\"dataframe\">\n",
       "  <thead>\n",
       "    <tr style=\"text-align: right;\">\n",
       "      <th></th>\n",
       "      <th>title</th>\n",
       "      <th>type</th>\n",
       "      <th>days_in_top10</th>\n",
       "      <th>viewership_score</th>\n",
       "    </tr>\n",
       "  </thead>\n",
       "  <tbody>\n",
       "    <tr>\n",
       "      <th>0</th>\n",
       "      <td>Space Force</td>\n",
       "      <td>TV Show</td>\n",
       "      <td>3</td>\n",
       "      <td>30</td>\n",
       "    </tr>\n",
       "    <tr>\n",
       "      <th>1</th>\n",
       "      <td>Jeffrey Epstein: Filthy Rich</td>\n",
       "      <td>TV Show</td>\n",
       "      <td>5</td>\n",
       "      <td>47</td>\n",
       "    </tr>\n",
       "    <tr>\n",
       "      <th>2</th>\n",
       "      <td>Sweet Magnolias</td>\n",
       "      <td>TV Show</td>\n",
       "      <td>13</td>\n",
       "      <td>110</td>\n",
       "    </tr>\n",
       "    <tr>\n",
       "      <th>3</th>\n",
       "      <td>Uncut Gems</td>\n",
       "      <td>Movie</td>\n",
       "      <td>7</td>\n",
       "      <td>59</td>\n",
       "    </tr>\n",
       "    <tr>\n",
       "      <th>4</th>\n",
       "      <td>Avatar the Last Airbender</td>\n",
       "      <td>TV Show</td>\n",
       "      <td>14</td>\n",
       "      <td>117</td>\n",
       "    </tr>\n",
       "  </tbody>\n",
       "</table>\n",
       "</div>"
      ],
      "text/plain": [
       "                          title     type days_in_top10 viewership_score\n",
       "0                   Space Force  TV Show             3               30\n",
       "1  Jeffrey Epstein: Filthy Rich  TV Show             5               47\n",
       "2               Sweet Magnolias  TV Show            13              110\n",
       "3                    Uncut Gems    Movie             7               59\n",
       "4     Avatar the Last Airbender  TV Show            14              117"
      ]
     },
     "execution_count": 117,
     "metadata": {},
     "output_type": "execute_result"
    }
   ],
   "source": [
    "top_ten.head()"
   ]
  },
  {
   "cell_type": "code",
   "execution_count": 118,
   "metadata": {},
   "outputs": [
    {
     "name": "stdout",
     "output_type": "stream",
     "text": [
      "<class 'pandas.core.frame.DataFrame'>\n",
      "RangeIndex: 1148 entries, 0 to 1147\n",
      "Data columns (total 4 columns):\n",
      "title               1148 non-null object\n",
      "type                1148 non-null object\n",
      "days_in_top10       1148 non-null float64\n",
      "viewership_score    1148 non-null float64\n",
      "dtypes: float64(2), object(2)\n",
      "memory usage: 36.0+ KB\n"
     ]
    }
   ],
   "source": [
    "# Convert both columns from object to float\n",
    "top_ten['days_in_top10'] = top_ten['days_in_top10'].astype(float)\n",
    "top_ten['viewership_score'] = top_ten['viewership_score'].astype(float)\n",
    "top_ten.info()"
   ]
  },
  {
   "cell_type": "markdown",
   "metadata": {},
   "source": [
    "# EDA:"
   ]
  },
  {
   "cell_type": "code",
   "execution_count": 272,
   "metadata": {},
   "outputs": [],
   "source": [
    "new_df2 = top_ten.sort_values(by=['days_in_top10'], ascending=False)"
   ]
  },
  {
   "cell_type": "code",
   "execution_count": 273,
   "metadata": {},
   "outputs": [],
   "source": [
    "new_df2.drop_duplicates(subset=['title'], inplace=True)"
   ]
  },
  {
   "cell_type": "code",
   "execution_count": 269,
   "metadata": {},
   "outputs": [],
   "source": [
    "new_df2.to_csv('df2.csv')"
   ]
  },
  {
   "cell_type": "code",
   "execution_count": 276,
   "metadata": {},
   "outputs": [
    {
     "data": {
      "text/html": [
       "<div>\n",
       "<style scoped>\n",
       "    .dataframe tbody tr th:only-of-type {\n",
       "        vertical-align: middle;\n",
       "    }\n",
       "\n",
       "    .dataframe tbody tr th {\n",
       "        vertical-align: top;\n",
       "    }\n",
       "\n",
       "    .dataframe thead th {\n",
       "        text-align: right;\n",
       "    }\n",
       "</style>\n",
       "<table border=\"1\" class=\"dataframe\">\n",
       "  <thead>\n",
       "    <tr style=\"text-align: right;\">\n",
       "      <th></th>\n",
       "      <th>Unnamed: 0</th>\n",
       "      <th>title</th>\n",
       "      <th>type</th>\n",
       "      <th>days_in_top10</th>\n",
       "      <th>viewership_score</th>\n",
       "    </tr>\n",
       "  </thead>\n",
       "  <tbody>\n",
       "    <tr>\n",
       "      <th>0</th>\n",
       "      <td>307</td>\n",
       "      <td>Avatar the Last Airbender</td>\n",
       "      <td>TV Show</td>\n",
       "      <td>39</td>\n",
       "      <td>196</td>\n",
       "    </tr>\n",
       "    <tr>\n",
       "      <th>1</th>\n",
       "      <td>19</td>\n",
       "      <td>Outer Banks</td>\n",
       "      <td>TV Show</td>\n",
       "      <td>37</td>\n",
       "      <td>259</td>\n",
       "    </tr>\n",
       "    <tr>\n",
       "      <th>2</th>\n",
       "      <td>886</td>\n",
       "      <td>The Umbrella Academy</td>\n",
       "      <td>TV Show</td>\n",
       "      <td>31</td>\n",
       "      <td>235</td>\n",
       "    </tr>\n",
       "    <tr>\n",
       "      <th>3</th>\n",
       "      <td>1146</td>\n",
       "      <td>Cobra Kai</td>\n",
       "      <td>TV Show</td>\n",
       "      <td>31</td>\n",
       "      <td>216</td>\n",
       "    </tr>\n",
       "    <tr>\n",
       "      <th>4</th>\n",
       "      <td>477</td>\n",
       "      <td>Jeffrey Epstein: Filthy Rich</td>\n",
       "      <td>TV Show</td>\n",
       "      <td>30</td>\n",
       "      <td>165</td>\n",
       "    </tr>\n",
       "  </tbody>\n",
       "</table>\n",
       "</div>"
      ],
      "text/plain": [
       "   Unnamed: 0                         title     type  days_in_top10  \\\n",
       "0         307     Avatar the Last Airbender  TV Show             39   \n",
       "1          19                   Outer Banks  TV Show             37   \n",
       "2         886          The Umbrella Academy  TV Show             31   \n",
       "3        1146                     Cobra Kai  TV Show             31   \n",
       "4         477  Jeffrey Epstein: Filthy Rich  TV Show             30   \n",
       "\n",
       "   viewership_score  \n",
       "0               196  \n",
       "1               259  \n",
       "2               235  \n",
       "3               216  \n",
       "4               165  "
      ]
     },
     "execution_count": 276,
     "metadata": {},
     "output_type": "execute_result"
    }
   ],
   "source": [
    "df2 = pd.read_csv('df2.csv')\n",
    "df2.head()"
   ]
  },
  {
   "cell_type": "code",
   "execution_count": 125,
   "metadata": {},
   "outputs": [
    {
     "data": {
      "text/plain": [
       "1     131\n",
       "2     127\n",
       "3     113\n",
       "4     102\n",
       "5      92\n",
       "6      83\n",
       "7      64\n",
       "8      56\n",
       "9      46\n",
       "10     41\n",
       "11     35\n",
       "13     27\n",
       "12     27\n",
       "14     24\n",
       "15     21\n",
       "16     19\n",
       "17     19\n",
       "18     17\n",
       "19     16\n",
       "20     14\n",
       "21     11\n",
       "22      9\n",
       "24      8\n",
       "23      7\n",
       "25      6\n",
       "26      5\n",
       "27      5\n",
       "29      4\n",
       "30      4\n",
       "28      3\n",
       "31      3\n",
       "37      2\n",
       "33      1\n",
       "32      1\n",
       "34      1\n",
       "35      1\n",
       "38      1\n",
       "36      1\n",
       "39      1\n",
       "Name: days_in_top10, dtype: int64"
      ]
     },
     "execution_count": 125,
     "metadata": {},
     "output_type": "execute_result"
    }
   ],
   "source": [
    "# check for outliers and extraneous values\n",
    "top_ten['days_in_top10'].value_counts()"
   ]
  },
  {
   "cell_type": "code",
   "execution_count": 126,
   "metadata": {},
   "outputs": [
    {
     "data": {
      "text/plain": [
       "TV Show            703\n",
       "Movie              440\n",
       "Stand-Up Comedy      5\n",
       "Name: type, dtype: int64"
      ]
     },
     "execution_count": 126,
     "metadata": {},
     "output_type": "execute_result"
    }
   ],
   "source": [
    "top_ten['type'].value_counts()"
   ]
  },
  {
   "cell_type": "markdown",
   "metadata": {},
   "source": [
    "# VISUALIZATIONS"
   ]
  },
  {
   "cell_type": "code",
   "execution_count": 129,
   "metadata": {},
   "outputs": [],
   "source": [
    "import seaborn as sns\n",
    "import matplotlib.pyplot as plt\n",
    "%matplotlib inline"
   ]
  },
  {
   "cell_type": "code",
   "execution_count": 292,
   "metadata": {},
   "outputs": [
    {
     "data": {
      "text/plain": [
       "Text(0, 0.5, 'Count by Type')"
      ]
     },
     "execution_count": 292,
     "metadata": {},
     "output_type": "execute_result"
    },
    {
     "data": {
      "image/png": "[encoded data removed]",
      "text/plain": [
       "<Figure size 432x288 with 1 Axes>"
      ]
     },
     "metadata": {
      "needs_background": "light"
     },
     "output_type": "display_data"
    }
   ],
   "source": [
    "sns.countplot(x=\"type\", data=df2, palette='inferno').set_title(\"Number of TV Show vs. Movies in Top 10\")\n",
    "plt.xlabel('Type')\n",
    "plt.ylabel('Count by Type')"
   ]
  },
  {
   "cell_type": "markdown",
   "metadata": {},
   "source": [
    "# IMPORT 2ND DB"
   ]
  },
  {
   "cell_type": "code",
   "execution_count": 134,
   "metadata": {},
   "outputs": [
    {
     "data": {
      "text/html": [
       "<div>\n",
       "<style scoped>\n",
       "    .dataframe tbody tr th:only-of-type {\n",
       "        vertical-align: middle;\n",
       "    }\n",
       "\n",
       "    .dataframe tbody tr th {\n",
       "        vertical-align: top;\n",
       "    }\n",
       "\n",
       "    .dataframe thead th {\n",
       "        text-align: right;\n",
       "    }\n",
       "</style>\n",
       "<table border=\"1\" class=\"dataframe\">\n",
       "  <thead>\n",
       "    <tr style=\"text-align: right;\">\n",
       "      <th></th>\n",
       "      <th>show_id</th>\n",
       "      <th>type</th>\n",
       "      <th>title</th>\n",
       "      <th>director</th>\n",
       "      <th>cast</th>\n",
       "      <th>country</th>\n",
       "      <th>date_added</th>\n",
       "      <th>release_year</th>\n",
       "      <th>rating</th>\n",
       "      <th>duration</th>\n",
       "      <th>listed_in</th>\n",
       "      <th>description</th>\n",
       "    </tr>\n",
       "  </thead>\n",
       "  <tbody>\n",
       "    <tr>\n",
       "      <th>0</th>\n",
       "      <td>81145628</td>\n",
       "      <td>Movie</td>\n",
       "      <td>Norm of the North: King Sized Adventure</td>\n",
       "      <td>Richard Finn, Tim Maltby</td>\n",
       "      <td>Alan Marriott, Andrew Toth, Brian Dobson, Cole...</td>\n",
       "      <td>United States, India, South Korea, China</td>\n",
       "      <td>September 9, 2019</td>\n",
       "      <td>2019</td>\n",
       "      <td>TV-PG</td>\n",
       "      <td>90 min</td>\n",
       "      <td>Children &amp; Family Movies, Comedies</td>\n",
       "      <td>Before planning an awesome wedding for his gra...</td>\n",
       "    </tr>\n",
       "    <tr>\n",
       "      <th>1</th>\n",
       "      <td>80117401</td>\n",
       "      <td>Movie</td>\n",
       "      <td>Jandino: Whatever it Takes</td>\n",
       "      <td>NaN</td>\n",
       "      <td>Jandino Asporaat</td>\n",
       "      <td>United Kingdom</td>\n",
       "      <td>September 9, 2016</td>\n",
       "      <td>2016</td>\n",
       "      <td>TV-MA</td>\n",
       "      <td>94 min</td>\n",
       "      <td>Stand-Up Comedy</td>\n",
       "      <td>Jandino Asporaat riffs on the challenges of ra...</td>\n",
       "    </tr>\n",
       "    <tr>\n",
       "      <th>2</th>\n",
       "      <td>70234439</td>\n",
       "      <td>TV Show</td>\n",
       "      <td>Transformers Prime</td>\n",
       "      <td>NaN</td>\n",
       "      <td>Peter Cullen, Sumalee Montano, Frank Welker, J...</td>\n",
       "      <td>United States</td>\n",
       "      <td>September 8, 2018</td>\n",
       "      <td>2013</td>\n",
       "      <td>TV-Y7-FV</td>\n",
       "      <td>1 Season</td>\n",
       "      <td>Kids' TV</td>\n",
       "      <td>With the help of three human allies, the Autob...</td>\n",
       "    </tr>\n",
       "    <tr>\n",
       "      <th>3</th>\n",
       "      <td>80058654</td>\n",
       "      <td>TV Show</td>\n",
       "      <td>Transformers: Robots in Disguise</td>\n",
       "      <td>NaN</td>\n",
       "      <td>Will Friedle, Darren Criss, Constance Zimmer, ...</td>\n",
       "      <td>United States</td>\n",
       "      <td>September 8, 2018</td>\n",
       "      <td>2016</td>\n",
       "      <td>TV-Y7</td>\n",
       "      <td>1 Season</td>\n",
       "      <td>Kids' TV</td>\n",
       "      <td>When a prison ship crash unleashes hundreds of...</td>\n",
       "    </tr>\n",
       "    <tr>\n",
       "      <th>4</th>\n",
       "      <td>80125979</td>\n",
       "      <td>Movie</td>\n",
       "      <td>#realityhigh</td>\n",
       "      <td>Fernando Lebrija</td>\n",
       "      <td>Nesta Cooper, Kate Walsh, John Michael Higgins...</td>\n",
       "      <td>United States</td>\n",
       "      <td>September 8, 2017</td>\n",
       "      <td>2017</td>\n",
       "      <td>TV-14</td>\n",
       "      <td>99 min</td>\n",
       "      <td>Comedies</td>\n",
       "      <td>When nerdy high schooler Dani finally attracts...</td>\n",
       "    </tr>\n",
       "  </tbody>\n",
       "</table>\n",
       "</div>"
      ],
      "text/plain": [
       "    show_id     type                                    title  \\\n",
       "0  81145628    Movie  Norm of the North: King Sized Adventure   \n",
       "1  80117401    Movie               Jandino: Whatever it Takes   \n",
       "2  70234439  TV Show                       Transformers Prime   \n",
       "3  80058654  TV Show         Transformers: Robots in Disguise   \n",
       "4  80125979    Movie                             #realityhigh   \n",
       "\n",
       "                   director  \\\n",
       "0  Richard Finn, Tim Maltby   \n",
       "1                       NaN   \n",
       "2                       NaN   \n",
       "3                       NaN   \n",
       "4          Fernando Lebrija   \n",
       "\n",
       "                                                cast  \\\n",
       "0  Alan Marriott, Andrew Toth, Brian Dobson, Cole...   \n",
       "1                                   Jandino Asporaat   \n",
       "2  Peter Cullen, Sumalee Montano, Frank Welker, J...   \n",
       "3  Will Friedle, Darren Criss, Constance Zimmer, ...   \n",
       "4  Nesta Cooper, Kate Walsh, John Michael Higgins...   \n",
       "\n",
       "                                    country         date_added  release_year  \\\n",
       "0  United States, India, South Korea, China  September 9, 2019          2019   \n",
       "1                            United Kingdom  September 9, 2016          2016   \n",
       "2                             United States  September 8, 2018          2013   \n",
       "3                             United States  September 8, 2018          2016   \n",
       "4                             United States  September 8, 2017          2017   \n",
       "\n",
       "     rating  duration                           listed_in  \\\n",
       "0     TV-PG    90 min  Children & Family Movies, Comedies   \n",
       "1     TV-MA    94 min                     Stand-Up Comedy   \n",
       "2  TV-Y7-FV  1 Season                            Kids' TV   \n",
       "3     TV-Y7  1 Season                            Kids' TV   \n",
       "4     TV-14    99 min                            Comedies   \n",
       "\n",
       "                                         description  \n",
       "0  Before planning an awesome wedding for his gra...  \n",
       "1  Jandino Asporaat riffs on the challenges of ra...  \n",
       "2  With the help of three human allies, the Autob...  \n",
       "3  When a prison ship crash unleashes hundreds of...  \n",
       "4  When nerdy high schooler Dani finally attracts...  "
      ]
     },
     "execution_count": 134,
     "metadata": {},
     "output_type": "execute_result"
    }
   ],
   "source": [
    "# Import Kaggle Netflix DB\n",
    "kaggle = pd.read_csv(\"zippedData/netflix_titles.csv\")\n",
    "kaggle.head()"
   ]
  },
  {
   "cell_type": "code",
   "execution_count": 135,
   "metadata": {},
   "outputs": [
    {
     "name": "stdout",
     "output_type": "stream",
     "text": [
      "<class 'pandas.core.frame.DataFrame'>\n",
      "RangeIndex: 6234 entries, 0 to 6233\n",
      "Data columns (total 12 columns):\n",
      "show_id         6234 non-null int64\n",
      "type            6234 non-null object\n",
      "title           6234 non-null object\n",
      "director        4265 non-null object\n",
      "cast            5664 non-null object\n",
      "country         5758 non-null object\n",
      "date_added      6223 non-null object\n",
      "release_year    6234 non-null int64\n",
      "rating          6224 non-null object\n",
      "duration        6234 non-null object\n",
      "listed_in       6234 non-null object\n",
      "description     6234 non-null object\n",
      "dtypes: int64(2), object(10)\n",
      "memory usage: 584.6+ KB\n"
     ]
    }
   ],
   "source": [
    "kaggle.info()"
   ]
  },
  {
   "cell_type": "code",
   "execution_count": 136,
   "metadata": {},
   "outputs": [
    {
     "data": {
      "text/html": [
       "<div>\n",
       "<style scoped>\n",
       "    .dataframe tbody tr th:only-of-type {\n",
       "        vertical-align: middle;\n",
       "    }\n",
       "\n",
       "    .dataframe tbody tr th {\n",
       "        vertical-align: top;\n",
       "    }\n",
       "\n",
       "    .dataframe thead th {\n",
       "        text-align: right;\n",
       "    }\n",
       "</style>\n",
       "<table border=\"1\" class=\"dataframe\">\n",
       "  <thead>\n",
       "    <tr style=\"text-align: right;\">\n",
       "      <th></th>\n",
       "      <th>show_id</th>\n",
       "      <th>release_year</th>\n",
       "    </tr>\n",
       "  </thead>\n",
       "  <tbody>\n",
       "    <tr>\n",
       "      <th>count</th>\n",
       "      <td>6,234</td>\n",
       "      <td>6,234</td>\n",
       "    </tr>\n",
       "    <tr>\n",
       "      <th>mean</th>\n",
       "      <td>76,703,679</td>\n",
       "      <td>2,013</td>\n",
       "    </tr>\n",
       "    <tr>\n",
       "      <th>std</th>\n",
       "      <td>10,942,965</td>\n",
       "      <td>9</td>\n",
       "    </tr>\n",
       "    <tr>\n",
       "      <th>min</th>\n",
       "      <td>247,747</td>\n",
       "      <td>1,925</td>\n",
       "    </tr>\n",
       "    <tr>\n",
       "      <th>25%</th>\n",
       "      <td>80,035,802</td>\n",
       "      <td>2,013</td>\n",
       "    </tr>\n",
       "    <tr>\n",
       "      <th>50%</th>\n",
       "      <td>80,163,367</td>\n",
       "      <td>2,016</td>\n",
       "    </tr>\n",
       "    <tr>\n",
       "      <th>75%</th>\n",
       "      <td>80,244,889</td>\n",
       "      <td>2,018</td>\n",
       "    </tr>\n",
       "    <tr>\n",
       "      <th>max</th>\n",
       "      <td>81,235,729</td>\n",
       "      <td>2,020</td>\n",
       "    </tr>\n",
       "  </tbody>\n",
       "</table>\n",
       "</div>"
      ],
      "text/plain": [
       "         show_id  release_year\n",
       "count      6,234         6,234\n",
       "mean  76,703,679         2,013\n",
       "std   10,942,965             9\n",
       "min      247,747         1,925\n",
       "25%   80,035,802         2,013\n",
       "50%   80,163,367         2,016\n",
       "75%   80,244,889         2,018\n",
       "max   81,235,729         2,020"
      ]
     },
     "execution_count": 136,
     "metadata": {},
     "output_type": "execute_result"
    }
   ],
   "source": [
    "kaggle.describe()"
   ]
  },
  {
   "cell_type": "markdown",
   "metadata": {},
   "source": [
    "# Cleaning"
   ]
  },
  {
   "cell_type": "code",
   "execution_count": 137,
   "metadata": {},
   "outputs": [
    {
     "name": "stdout",
     "output_type": "stream",
     "text": [
      "0\n"
     ]
    },
    {
     "data": {
      "text/html": [
       "<div>\n",
       "<style scoped>\n",
       "    .dataframe tbody tr th:only-of-type {\n",
       "        vertical-align: middle;\n",
       "    }\n",
       "\n",
       "    .dataframe tbody tr th {\n",
       "        vertical-align: top;\n",
       "    }\n",
       "\n",
       "    .dataframe thead th {\n",
       "        text-align: right;\n",
       "    }\n",
       "</style>\n",
       "<table border=\"1\" class=\"dataframe\">\n",
       "  <thead>\n",
       "    <tr style=\"text-align: right;\">\n",
       "      <th></th>\n",
       "      <th>show_id</th>\n",
       "      <th>type</th>\n",
       "      <th>title</th>\n",
       "      <th>director</th>\n",
       "      <th>cast</th>\n",
       "      <th>country</th>\n",
       "      <th>date_added</th>\n",
       "      <th>release_year</th>\n",
       "      <th>rating</th>\n",
       "      <th>duration</th>\n",
       "      <th>listed_in</th>\n",
       "      <th>description</th>\n",
       "    </tr>\n",
       "  </thead>\n",
       "  <tbody>\n",
       "  </tbody>\n",
       "</table>\n",
       "</div>"
      ],
      "text/plain": [
       "Empty DataFrame\n",
       "Columns: [show_id, type, title, director, cast, country, date_added, release_year, rating, duration, listed_in, description]\n",
       "Index: []"
      ]
     },
     "execution_count": 137,
     "metadata": {},
     "output_type": "execute_result"
    }
   ],
   "source": [
    "# Check for duplicates\n",
    "duplicates = kaggle[kaggle.duplicated()]\n",
    "print(len(duplicates))\n",
    "duplicates.head()"
   ]
  },
  {
   "cell_type": "code",
   "execution_count": 138,
   "metadata": {},
   "outputs": [
    {
     "data": {
      "text/plain": [
       "show_id            0\n",
       "type               0\n",
       "title              0\n",
       "director        1969\n",
       "cast             570\n",
       "country          476\n",
       "date_added        11\n",
       "release_year       0\n",
       "rating            10\n",
       "duration           0\n",
       "listed_in          0\n",
       "description        0\n",
       "dtype: int64"
      ]
     },
     "execution_count": 138,
     "metadata": {},
     "output_type": "execute_result"
    }
   ],
   "source": [
    "# Check and get count of Null values per column\n",
    "kaggle.isna().sum()"
   ]
  },
  {
   "cell_type": "code",
   "execution_count": 139,
   "metadata": {},
   "outputs": [
    {
     "name": "stdout",
     "output_type": "stream",
     "text": [
      "% of nulls director: 0.31584857234520375\n",
      "number of unique director values: 3301\n",
      "% of nulls cast: 0.09143407122232916\n",
      "number of unique cast values: 5469\n",
      "% of nulls country: 0.0763554700032082\n",
      "number of unique country values: 554\n",
      "% of nulls date_added: 0.0017645171639396856\n",
      "number of unique date_added values: 1524\n",
      "% of nulls rating: 0.0016041065126724415\n",
      "number of unique rating values: 14\n"
     ]
    }
   ],
   "source": [
    "# percent and counts of nulls per column\n",
    "print('% of nulls director:', len(kaggle[kaggle.director.isna()])/len(kaggle))\n",
    "print('number of unique director values:', kaggle.director.nunique())\n",
    "\n",
    "print('% of nulls cast:', len(kaggle[kaggle.cast.isna()])/len(kaggle))\n",
    "print('number of unique cast values:', kaggle.cast.nunique())\n",
    "\n",
    "print('% of nulls country:', len(kaggle[kaggle.country.isna()])/len(kaggle))\n",
    "print('number of unique country values:', kaggle.country.nunique())\n",
    "\n",
    "print('% of nulls date_added:', len(kaggle[kaggle.date_added.isna()])/len(kaggle))\n",
    "print('number of unique date_added values:', kaggle.date_added.nunique())\n",
    "\n",
    "print('% of nulls rating:', len(kaggle[kaggle.rating.isna()])/len(kaggle))\n",
    "print('number of unique rating values:', kaggle.rating.nunique())"
   ]
  },
  {
   "cell_type": "code",
   "execution_count": 140,
   "metadata": {},
   "outputs": [
    {
     "data": {
      "text/html": [
       "<div>\n",
       "<style scoped>\n",
       "    .dataframe tbody tr th:only-of-type {\n",
       "        vertical-align: middle;\n",
       "    }\n",
       "\n",
       "    .dataframe tbody tr th {\n",
       "        vertical-align: top;\n",
       "    }\n",
       "\n",
       "    .dataframe thead th {\n",
       "        text-align: right;\n",
       "    }\n",
       "</style>\n",
       "<table border=\"1\" class=\"dataframe\">\n",
       "  <thead>\n",
       "    <tr style=\"text-align: right;\">\n",
       "      <th></th>\n",
       "      <th>show_id</th>\n",
       "      <th>type</th>\n",
       "      <th>title</th>\n",
       "      <th>cast</th>\n",
       "      <th>country</th>\n",
       "      <th>date_added</th>\n",
       "      <th>release_year</th>\n",
       "      <th>rating</th>\n",
       "      <th>duration</th>\n",
       "      <th>listed_in</th>\n",
       "      <th>description</th>\n",
       "    </tr>\n",
       "  </thead>\n",
       "  <tbody>\n",
       "    <tr>\n",
       "      <th>0</th>\n",
       "      <td>81145628</td>\n",
       "      <td>Movie</td>\n",
       "      <td>Norm of the North: King Sized Adventure</td>\n",
       "      <td>Alan Marriott, Andrew Toth, Brian Dobson, Cole...</td>\n",
       "      <td>United States, India, South Korea, China</td>\n",
       "      <td>September 9, 2019</td>\n",
       "      <td>2019</td>\n",
       "      <td>TV-PG</td>\n",
       "      <td>90 min</td>\n",
       "      <td>Children &amp; Family Movies, Comedies</td>\n",
       "      <td>Before planning an awesome wedding for his gra...</td>\n",
       "    </tr>\n",
       "    <tr>\n",
       "      <th>1</th>\n",
       "      <td>80117401</td>\n",
       "      <td>Movie</td>\n",
       "      <td>Jandino: Whatever it Takes</td>\n",
       "      <td>Jandino Asporaat</td>\n",
       "      <td>United Kingdom</td>\n",
       "      <td>September 9, 2016</td>\n",
       "      <td>2016</td>\n",
       "      <td>TV-MA</td>\n",
       "      <td>94 min</td>\n",
       "      <td>Stand-Up Comedy</td>\n",
       "      <td>Jandino Asporaat riffs on the challenges of ra...</td>\n",
       "    </tr>\n",
       "    <tr>\n",
       "      <th>2</th>\n",
       "      <td>70234439</td>\n",
       "      <td>TV Show</td>\n",
       "      <td>Transformers Prime</td>\n",
       "      <td>Peter Cullen, Sumalee Montano, Frank Welker, J...</td>\n",
       "      <td>United States</td>\n",
       "      <td>September 8, 2018</td>\n",
       "      <td>2013</td>\n",
       "      <td>TV-Y7-FV</td>\n",
       "      <td>1 Season</td>\n",
       "      <td>Kids' TV</td>\n",
       "      <td>With the help of three human allies, the Autob...</td>\n",
       "    </tr>\n",
       "    <tr>\n",
       "      <th>3</th>\n",
       "      <td>80058654</td>\n",
       "      <td>TV Show</td>\n",
       "      <td>Transformers: Robots in Disguise</td>\n",
       "      <td>Will Friedle, Darren Criss, Constance Zimmer, ...</td>\n",
       "      <td>United States</td>\n",
       "      <td>September 8, 2018</td>\n",
       "      <td>2016</td>\n",
       "      <td>TV-Y7</td>\n",
       "      <td>1 Season</td>\n",
       "      <td>Kids' TV</td>\n",
       "      <td>When a prison ship crash unleashes hundreds of...</td>\n",
       "    </tr>\n",
       "    <tr>\n",
       "      <th>4</th>\n",
       "      <td>80125979</td>\n",
       "      <td>Movie</td>\n",
       "      <td>#realityhigh</td>\n",
       "      <td>Nesta Cooper, Kate Walsh, John Michael Higgins...</td>\n",
       "      <td>United States</td>\n",
       "      <td>September 8, 2017</td>\n",
       "      <td>2017</td>\n",
       "      <td>TV-14</td>\n",
       "      <td>99 min</td>\n",
       "      <td>Comedies</td>\n",
       "      <td>When nerdy high schooler Dani finally attracts...</td>\n",
       "    </tr>\n",
       "    <tr>\n",
       "      <th>...</th>\n",
       "      <td>...</td>\n",
       "      <td>...</td>\n",
       "      <td>...</td>\n",
       "      <td>...</td>\n",
       "      <td>...</td>\n",
       "      <td>...</td>\n",
       "      <td>...</td>\n",
       "      <td>...</td>\n",
       "      <td>...</td>\n",
       "      <td>...</td>\n",
       "      <td>...</td>\n",
       "    </tr>\n",
       "    <tr>\n",
       "      <th>6229</th>\n",
       "      <td>80000063</td>\n",
       "      <td>TV Show</td>\n",
       "      <td>Red vs. Blue</td>\n",
       "      <td>Burnie Burns, Jason Saldaña, Gustavo Sorola, G...</td>\n",
       "      <td>United States</td>\n",
       "      <td>NaN</td>\n",
       "      <td>2015</td>\n",
       "      <td>NR</td>\n",
       "      <td>13 Seasons</td>\n",
       "      <td>TV Action &amp; Adventure, TV Comedies, TV Sci-Fi ...</td>\n",
       "      <td>This parody of first-person shooter games, mil...</td>\n",
       "    </tr>\n",
       "    <tr>\n",
       "      <th>6230</th>\n",
       "      <td>70286564</td>\n",
       "      <td>TV Show</td>\n",
       "      <td>Maron</td>\n",
       "      <td>Marc Maron, Judd Hirsch, Josh Brener, Nora Zeh...</td>\n",
       "      <td>United States</td>\n",
       "      <td>NaN</td>\n",
       "      <td>2016</td>\n",
       "      <td>TV-MA</td>\n",
       "      <td>4 Seasons</td>\n",
       "      <td>TV Comedies</td>\n",
       "      <td>Marc Maron stars as Marc Maron, who interviews...</td>\n",
       "    </tr>\n",
       "    <tr>\n",
       "      <th>6231</th>\n",
       "      <td>80116008</td>\n",
       "      <td>Movie</td>\n",
       "      <td>Little Baby Bum: Nursery Rhyme Friends</td>\n",
       "      <td>NaN</td>\n",
       "      <td>NaN</td>\n",
       "      <td>NaN</td>\n",
       "      <td>2016</td>\n",
       "      <td>NaN</td>\n",
       "      <td>60 min</td>\n",
       "      <td>Movies</td>\n",
       "      <td>Nursery rhymes and original music for children...</td>\n",
       "    </tr>\n",
       "    <tr>\n",
       "      <th>6232</th>\n",
       "      <td>70281022</td>\n",
       "      <td>TV Show</td>\n",
       "      <td>A Young Doctor's Notebook and Other Stories</td>\n",
       "      <td>Daniel Radcliffe, Jon Hamm, Adam Godley, Chris...</td>\n",
       "      <td>United Kingdom</td>\n",
       "      <td>NaN</td>\n",
       "      <td>2013</td>\n",
       "      <td>TV-MA</td>\n",
       "      <td>2 Seasons</td>\n",
       "      <td>British TV Shows, TV Comedies, TV Dramas</td>\n",
       "      <td>Set during the Russian Revolution, this comic ...</td>\n",
       "    </tr>\n",
       "    <tr>\n",
       "      <th>6233</th>\n",
       "      <td>70153404</td>\n",
       "      <td>TV Show</td>\n",
       "      <td>Friends</td>\n",
       "      <td>Jennifer Aniston, Courteney Cox, Lisa Kudrow, ...</td>\n",
       "      <td>United States</td>\n",
       "      <td>NaN</td>\n",
       "      <td>2003</td>\n",
       "      <td>TV-14</td>\n",
       "      <td>10 Seasons</td>\n",
       "      <td>Classic &amp; Cult TV, TV Comedies</td>\n",
       "      <td>This hit sitcom follows the merry misadventure...</td>\n",
       "    </tr>\n",
       "  </tbody>\n",
       "</table>\n",
       "<p>6234 rows × 11 columns</p>\n",
       "</div>"
      ],
      "text/plain": [
       "       show_id     type                                        title  \\\n",
       "0     81145628    Movie      Norm of the North: King Sized Adventure   \n",
       "1     80117401    Movie                   Jandino: Whatever it Takes   \n",
       "2     70234439  TV Show                           Transformers Prime   \n",
       "3     80058654  TV Show             Transformers: Robots in Disguise   \n",
       "4     80125979    Movie                                 #realityhigh   \n",
       "...        ...      ...                                          ...   \n",
       "6229  80000063  TV Show                                 Red vs. Blue   \n",
       "6230  70286564  TV Show                                        Maron   \n",
       "6231  80116008    Movie       Little Baby Bum: Nursery Rhyme Friends   \n",
       "6232  70281022  TV Show  A Young Doctor's Notebook and Other Stories   \n",
       "6233  70153404  TV Show                                      Friends   \n",
       "\n",
       "                                                   cast  \\\n",
       "0     Alan Marriott, Andrew Toth, Brian Dobson, Cole...   \n",
       "1                                      Jandino Asporaat   \n",
       "2     Peter Cullen, Sumalee Montano, Frank Welker, J...   \n",
       "3     Will Friedle, Darren Criss, Constance Zimmer, ...   \n",
       "4     Nesta Cooper, Kate Walsh, John Michael Higgins...   \n",
       "...                                                 ...   \n",
       "6229  Burnie Burns, Jason Saldaña, Gustavo Sorola, G...   \n",
       "6230  Marc Maron, Judd Hirsch, Josh Brener, Nora Zeh...   \n",
       "6231                                                NaN   \n",
       "6232  Daniel Radcliffe, Jon Hamm, Adam Godley, Chris...   \n",
       "6233  Jennifer Aniston, Courteney Cox, Lisa Kudrow, ...   \n",
       "\n",
       "                                       country         date_added  \\\n",
       "0     United States, India, South Korea, China  September 9, 2019   \n",
       "1                               United Kingdom  September 9, 2016   \n",
       "2                                United States  September 8, 2018   \n",
       "3                                United States  September 8, 2018   \n",
       "4                                United States  September 8, 2017   \n",
       "...                                        ...                ...   \n",
       "6229                             United States                NaN   \n",
       "6230                             United States                NaN   \n",
       "6231                                       NaN                NaN   \n",
       "6232                            United Kingdom                NaN   \n",
       "6233                             United States                NaN   \n",
       "\n",
       "      release_year    rating    duration  \\\n",
       "0             2019     TV-PG      90 min   \n",
       "1             2016     TV-MA      94 min   \n",
       "2             2013  TV-Y7-FV    1 Season   \n",
       "3             2016     TV-Y7    1 Season   \n",
       "4             2017     TV-14      99 min   \n",
       "...            ...       ...         ...   \n",
       "6229          2015        NR  13 Seasons   \n",
       "6230          2016     TV-MA   4 Seasons   \n",
       "6231          2016       NaN      60 min   \n",
       "6232          2013     TV-MA   2 Seasons   \n",
       "6233          2003     TV-14  10 Seasons   \n",
       "\n",
       "                                              listed_in  \\\n",
       "0                    Children & Family Movies, Comedies   \n",
       "1                                       Stand-Up Comedy   \n",
       "2                                              Kids' TV   \n",
       "3                                              Kids' TV   \n",
       "4                                              Comedies   \n",
       "...                                                 ...   \n",
       "6229  TV Action & Adventure, TV Comedies, TV Sci-Fi ...   \n",
       "6230                                        TV Comedies   \n",
       "6231                                             Movies   \n",
       "6232           British TV Shows, TV Comedies, TV Dramas   \n",
       "6233                     Classic & Cult TV, TV Comedies   \n",
       "\n",
       "                                            description  \n",
       "0     Before planning an awesome wedding for his gra...  \n",
       "1     Jandino Asporaat riffs on the challenges of ra...  \n",
       "2     With the help of three human allies, the Autob...  \n",
       "3     When a prison ship crash unleashes hundreds of...  \n",
       "4     When nerdy high schooler Dani finally attracts...  \n",
       "...                                                 ...  \n",
       "6229  This parody of first-person shooter games, mil...  \n",
       "6230  Marc Maron stars as Marc Maron, who interviews...  \n",
       "6231  Nursery rhymes and original music for children...  \n",
       "6232  Set during the Russian Revolution, this comic ...  \n",
       "6233  This hit sitcom follows the merry misadventure...  \n",
       "\n",
       "[6234 rows x 11 columns]"
      ]
     },
     "execution_count": 140,
     "metadata": {},
     "output_type": "execute_result"
    }
   ],
   "source": [
    "# Drop Director column: 32% null\n",
    "kaggle.drop(['director'], axis=1)"
   ]
  },
  {
   "cell_type": "code",
   "execution_count": 141,
   "metadata": {},
   "outputs": [],
   "source": [
    "# replace nulls\n",
    "kaggle['director'] = kaggle['director'].fillna('unknown')\n",
    "kaggle['cast'] = kaggle['cast'].fillna('unknown')\n",
    "kaggle['country'] = kaggle['country'].fillna('unknown')\n",
    "kaggle['date_added'] = kaggle['date_added'].fillna('unknown')\n",
    "kaggle['rating'] = kaggle['rating'].fillna('unknown')"
   ]
  },
  {
   "cell_type": "code",
   "execution_count": 142,
   "metadata": {},
   "outputs": [
    {
     "data": {
      "text/plain": [
       "show_id         0\n",
       "type            0\n",
       "title           0\n",
       "director        0\n",
       "cast            0\n",
       "country         0\n",
       "date_added      0\n",
       "release_year    0\n",
       "rating          0\n",
       "duration        0\n",
       "listed_in       0\n",
       "description     0\n",
       "dtype: int64"
      ]
     },
     "execution_count": 142,
     "metadata": {},
     "output_type": "execute_result"
    }
   ],
   "source": [
    "# Check nulls were replaced\n",
    "kaggle.isna().sum()"
   ]
  },
  {
   "cell_type": "markdown",
   "metadata": {},
   "source": [
    "# VISUALIZATIONS"
   ]
  },
  {
   "cell_type": "code",
   "execution_count": 143,
   "metadata": {},
   "outputs": [
    {
     "data": {
      "text/html": [
       "<div>\n",
       "<style scoped>\n",
       "    .dataframe tbody tr th:only-of-type {\n",
       "        vertical-align: middle;\n",
       "    }\n",
       "\n",
       "    .dataframe tbody tr th {\n",
       "        vertical-align: top;\n",
       "    }\n",
       "\n",
       "    .dataframe thead th {\n",
       "        text-align: right;\n",
       "    }\n",
       "</style>\n",
       "<table border=\"1\" class=\"dataframe\">\n",
       "  <thead>\n",
       "    <tr style=\"text-align: right;\">\n",
       "      <th></th>\n",
       "      <th>release_year</th>\n",
       "      <th>type</th>\n",
       "      <th>title</th>\n",
       "    </tr>\n",
       "  </thead>\n",
       "  <tbody>\n",
       "    <tr>\n",
       "      <th>105</th>\n",
       "      <td>2016</td>\n",
       "      <td>Movie</td>\n",
       "      <td>593</td>\n",
       "    </tr>\n",
       "    <tr>\n",
       "      <th>106</th>\n",
       "      <td>2016</td>\n",
       "      <td>TV Show</td>\n",
       "      <td>237</td>\n",
       "    </tr>\n",
       "    <tr>\n",
       "      <th>107</th>\n",
       "      <td>2017</td>\n",
       "      <td>Movie</td>\n",
       "      <td>682</td>\n",
       "    </tr>\n",
       "    <tr>\n",
       "      <th>108</th>\n",
       "      <td>2017</td>\n",
       "      <td>TV Show</td>\n",
       "      <td>277</td>\n",
       "    </tr>\n",
       "    <tr>\n",
       "      <th>109</th>\n",
       "      <td>2018</td>\n",
       "      <td>Movie</td>\n",
       "      <td>646</td>\n",
       "    </tr>\n",
       "    <tr>\n",
       "      <th>110</th>\n",
       "      <td>2018</td>\n",
       "      <td>TV Show</td>\n",
       "      <td>417</td>\n",
       "    </tr>\n",
       "    <tr>\n",
       "      <th>111</th>\n",
       "      <td>2019</td>\n",
       "      <td>Movie</td>\n",
       "      <td>400</td>\n",
       "    </tr>\n",
       "    <tr>\n",
       "      <th>112</th>\n",
       "      <td>2019</td>\n",
       "      <td>TV Show</td>\n",
       "      <td>443</td>\n",
       "    </tr>\n",
       "    <tr>\n",
       "      <th>113</th>\n",
       "      <td>2020</td>\n",
       "      <td>Movie</td>\n",
       "      <td>6</td>\n",
       "    </tr>\n",
       "    <tr>\n",
       "      <th>114</th>\n",
       "      <td>2020</td>\n",
       "      <td>TV Show</td>\n",
       "      <td>19</td>\n",
       "    </tr>\n",
       "  </tbody>\n",
       "</table>\n",
       "</div>"
      ],
      "text/plain": [
       "     release_year     type  title\n",
       "105          2016    Movie    593\n",
       "106          2016  TV Show    237\n",
       "107          2017    Movie    682\n",
       "108          2017  TV Show    277\n",
       "109          2018    Movie    646\n",
       "110          2018  TV Show    417\n",
       "111          2019    Movie    400\n",
       "112          2019  TV Show    443\n",
       "113          2020    Movie      6\n",
       "114          2020  TV Show     19"
      ]
     },
     "execution_count": 143,
     "metadata": {},
     "output_type": "execute_result"
    }
   ],
   "source": [
    "kaggle_grouped = kaggle.groupby(['release_year','type'])['title'].count().reset_index()\n",
    "kaggle_grouped.tail(10)"
   ]
  },
  {
   "cell_type": "code",
   "execution_count": 144,
   "metadata": {},
   "outputs": [
    {
     "data": {
      "text/html": [
       "<div>\n",
       "<style scoped>\n",
       "    .dataframe tbody tr th:only-of-type {\n",
       "        vertical-align: middle;\n",
       "    }\n",
       "\n",
       "    .dataframe tbody tr th {\n",
       "        vertical-align: top;\n",
       "    }\n",
       "\n",
       "    .dataframe thead th {\n",
       "        text-align: right;\n",
       "    }\n",
       "</style>\n",
       "<table border=\"1\" class=\"dataframe\">\n",
       "  <thead>\n",
       "    <tr style=\"text-align: right;\">\n",
       "      <th></th>\n",
       "      <th>release_year</th>\n",
       "      <th>type</th>\n",
       "      <th>title</th>\n",
       "    </tr>\n",
       "  </thead>\n",
       "  <tbody>\n",
       "    <tr>\n",
       "      <th>87</th>\n",
       "      <td>2007</td>\n",
       "      <td>Movie</td>\n",
       "      <td>60</td>\n",
       "    </tr>\n",
       "    <tr>\n",
       "      <th>88</th>\n",
       "      <td>2007</td>\n",
       "      <td>TV Show</td>\n",
       "      <td>11</td>\n",
       "    </tr>\n",
       "    <tr>\n",
       "      <th>89</th>\n",
       "      <td>2008</td>\n",
       "      <td>Movie</td>\n",
       "      <td>87</td>\n",
       "    </tr>\n",
       "    <tr>\n",
       "      <th>90</th>\n",
       "      <td>2008</td>\n",
       "      <td>TV Show</td>\n",
       "      <td>20</td>\n",
       "    </tr>\n",
       "    <tr>\n",
       "      <th>91</th>\n",
       "      <td>2009</td>\n",
       "      <td>Movie</td>\n",
       "      <td>87</td>\n",
       "    </tr>\n",
       "  </tbody>\n",
       "</table>\n",
       "</div>"
      ],
      "text/plain": [
       "    release_year     type  title\n",
       "87          2007    Movie     60\n",
       "88          2007  TV Show     11\n",
       "89          2008    Movie     87\n",
       "90          2008  TV Show     20\n",
       "91          2009    Movie     87"
      ]
     },
     "execution_count": 144,
     "metadata": {},
     "output_type": "execute_result"
    }
   ],
   "source": [
    "# TV Shows vs. Movies on Netflix 2007 - 2019 . 2007 is when they started streaming. filter out 2020\n",
    "kaggle_filtered = kaggle_grouped.loc[(kaggle_grouped['release_year']>2006) & (kaggle_grouped['release_year']<2020)]\n",
    "kaggle_filtered.head()"
   ]
  },
  {
   "cell_type": "code",
   "execution_count": 290,
   "metadata": {},
   "outputs": [
    {
     "data": {
      "image/png": "[encoded data removed]",
      "text/plain": [
       "<Figure size 720x432 with 1 Axes>"
      ]
     },
     "metadata": {
      "needs_background": "light"
     },
     "output_type": "display_data"
    }
   ],
   "source": [
    "fig,ax = plt.subplots(figsize=(10,6))\n",
    "ax.set(xlabel='Year of Release', ylabel='Number of Titles')\n",
    "ax = sns.lineplot(x='release_year', y='title', data=kaggle_filtered, hue='type', markers=True, palette='inferno').set_title(\"TV Show vs. Movies (2007-2019)\")"
   ]
  },
  {
   "cell_type": "code",
   "execution_count": 146,
   "metadata": {},
   "outputs": [
    {
     "data": {
      "text/html": [
       "<div>\n",
       "<style scoped>\n",
       "    .dataframe tbody tr th:only-of-type {\n",
       "        vertical-align: middle;\n",
       "    }\n",
       "\n",
       "    .dataframe tbody tr th {\n",
       "        vertical-align: top;\n",
       "    }\n",
       "\n",
       "    .dataframe thead th {\n",
       "        text-align: right;\n",
       "    }\n",
       "</style>\n",
       "<table border=\"1\" class=\"dataframe\">\n",
       "  <thead>\n",
       "    <tr style=\"text-align: right;\">\n",
       "      <th></th>\n",
       "      <th>release_year</th>\n",
       "      <th>type</th>\n",
       "      <th>title</th>\n",
       "    </tr>\n",
       "  </thead>\n",
       "  <tbody>\n",
       "    <tr>\n",
       "      <th>107</th>\n",
       "      <td>2017</td>\n",
       "      <td>Movie</td>\n",
       "      <td>682</td>\n",
       "    </tr>\n",
       "    <tr>\n",
       "      <th>108</th>\n",
       "      <td>2017</td>\n",
       "      <td>TV Show</td>\n",
       "      <td>277</td>\n",
       "    </tr>\n",
       "    <tr>\n",
       "      <th>109</th>\n",
       "      <td>2018</td>\n",
       "      <td>Movie</td>\n",
       "      <td>646</td>\n",
       "    </tr>\n",
       "    <tr>\n",
       "      <th>110</th>\n",
       "      <td>2018</td>\n",
       "      <td>TV Show</td>\n",
       "      <td>417</td>\n",
       "    </tr>\n",
       "    <tr>\n",
       "      <th>111</th>\n",
       "      <td>2019</td>\n",
       "      <td>Movie</td>\n",
       "      <td>400</td>\n",
       "    </tr>\n",
       "    <tr>\n",
       "      <th>112</th>\n",
       "      <td>2019</td>\n",
       "      <td>TV Show</td>\n",
       "      <td>443</td>\n",
       "    </tr>\n",
       "  </tbody>\n",
       "</table>\n",
       "</div>"
      ],
      "text/plain": [
       "     release_year     type  title\n",
       "107          2017    Movie    682\n",
       "108          2017  TV Show    277\n",
       "109          2018    Movie    646\n",
       "110          2018  TV Show    417\n",
       "111          2019    Movie    400\n",
       "112          2019  TV Show    443"
      ]
     },
     "execution_count": 146,
     "metadata": {},
     "output_type": "execute_result"
    }
   ],
   "source": [
    "# show 2017 - 2019 for better visual\n",
    "kaggle_filtered2 = kaggle_grouped.loc[(kaggle_grouped['release_year']>2016) & (kaggle_grouped['release_year']<2020)]\n",
    "kaggle_filtered2"
   ]
  },
  {
   "cell_type": "code",
   "execution_count": 291,
   "metadata": {},
   "outputs": [
    {
     "data": {
      "image/png": "[encoded data removed]",
      "text/plain": [
       "<Figure size 720x432 with 1 Axes>"
      ]
     },
     "metadata": {
      "needs_background": "light"
     },
     "output_type": "display_data"
    }
   ],
   "source": [
    "fig,ax = plt.subplots(figsize=(10,6))\n",
    "ax.set(xlabel='Year of Release', ylabel='Number of Titles')\n",
    "ax = sns.lineplot(x='release_year', y='title', data=kaggle_filtered2, hue='type', markers=True, palette='inferno').set_title(\"TV Show vs. Movies (2017-2019)\")"
   ]
  },
  {
   "cell_type": "code",
   "execution_count": null,
   "metadata": {},
   "outputs": [],
   "source": []
  }
 ],
 "metadata": {
  "kernelspec": {
   "display_name": "Python 3",
   "language": "python",
   "name": "python3"
  },
  "language_info": {
   "codemirror_mode": {
    "name": "ipython",
    "version": 3
   },
   "file_extension": ".py",
   "mimetype": "text/x-python",
   "name": "python",
   "nbconvert_exporter": "python",
   "pygments_lexer": "ipython3",
   "version": "3.6.9"
  }
 },
 "nbformat": 4,
 "nbformat_minor": 4
}
